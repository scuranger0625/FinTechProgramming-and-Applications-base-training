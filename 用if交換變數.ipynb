{
 "cells": [
  {
   "cell_type": "markdown",
   "metadata": {},
   "source": [
    "寫一個程式，設定2個整數，分別是10與20，使用第三個變數進行交換。\n",
    "\n",
    "輸入範例: \n",
    "\n",
    "輸出範例: \n",
    "20 10\n",
    "\n",
    "範例程式：\n",
    "x=10\n",
    "y=20\n",
    "temp=x\n",
    "x=y\n",
    "y=temp\n",
    "print(x,y)"
   ]
  },
  {
   "cell_type": "code",
   "execution_count": 1,
   "metadata": {},
   "outputs": [
    {
     "name": "stdout",
     "output_type": "stream",
     "text": [
      "20 10\n"
     ]
    }
   ],
   "source": [
    "'''\n",
    "12_1.用if交換變數-交換變數(25.0)\n",
    "'''\n",
    "x=10\n",
    "y=20\n",
    "\n",
    "temp=x\n",
    "x=y\n",
    "y=temp\n",
    "print(x,y)"
   ]
  },
  {
   "cell_type": "markdown",
   "metadata": {},
   "source": [
    "輸入兩個正整數a、b，按輸出範例輸出最大值：\n",
    "\n",
    "輸入範例：\n",
    "20\n",
    "10\n",
    "\n",
    "輸出範例：\n",
    "最大值20"
   ]
  },
  {
   "cell_type": "code",
   "execution_count": null,
   "metadata": {},
   "outputs": [],
   "source": [
    "'''\n",
    "12_2.用if交換變數-比大小(25.0)\n",
    "'''\n",
    "a = int(input())\n",
    "b = int(input())\n",
    "\n",
    "if a > b:\n",
    "    print(\"最大值{0}\".format(a))\n",
    "elif b > a:\n",
    "    print(\"最大值{0}\".format(b))\n",
    "else:\n",
    "    print(\"兩數相等\")"
   ]
  },
  {
   "cell_type": "markdown",
   "metadata": {},
   "source": [
    "寫一個程序，輸入3個整數，輸出最大值與最小值。\n",
    "\n",
    "輸入範例:\n",
    "3\n",
    "2\n",
    "1\n",
    "\n",
    "輸出範例:\n",
    "3\n",
    "1"
   ]
  },
  {
   "cell_type": "code",
   "execution_count": null,
   "metadata": {},
   "outputs": [],
   "source": [
    "'''\n",
    "12_3.用if交換變數-三數比大小(25.0)\n",
    "'''\n",
    "a = int(input())\n",
    "b = int(input())\n",
    "c = int(input())\n",
    "\n",
    "max_value = max(a,b,c)\n",
    "min_value = min(a,b,c)\n",
    "\n",
    "print(max_value)\n",
    "print(min_value)\n"
   ]
  },
  {
   "cell_type": "markdown",
   "metadata": {},
   "source": [
    "寫一個程序，輸入5個整數，輸出最大值與最小值。\n",
    "\n",
    "輸入範例:\n",
    "5\n",
    "4\n",
    "3\n",
    "2\n",
    "1\n",
    "\n",
    "輸出範例:\n",
    "5\n",
    "1"
   ]
  },
  {
   "cell_type": "code",
   "execution_count": null,
   "metadata": {},
   "outputs": [],
   "source": [
    "'''\n",
    "12_4.用if交換變數-五數比大小(25.0)\n",
    "'''\n",
    "\n",
    "a = int(input())\n",
    "b = int(input())\n",
    "c = int(input())\n",
    "d = int(input())\n",
    "e = int(input())\n",
    "\n",
    "max_value = max(a,b,c,d,e)\n",
    "min_value = min(a,b,c,d,e)\n",
    "\n",
    "print(max_value)\n",
    "print(min_value)"
   ]
  }
 ],
 "metadata": {
  "kernelspec": {
   "display_name": "Python 3",
   "language": "python",
   "name": "python3"
  },
  "language_info": {
   "codemirror_mode": {
    "name": "ipython",
    "version": 3
   },
   "file_extension": ".py",
   "mimetype": "text/x-python",
   "name": "python",
   "nbconvert_exporter": "python",
   "pygments_lexer": "ipython3",
   "version": "3.12.1"
  }
 },
 "nbformat": 4,
 "nbformat_minor": 2
}
