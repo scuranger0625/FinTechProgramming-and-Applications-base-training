{
 "cells": [
  {
   "cell_type": "markdown",
   "metadata": {},
   "source": [
    "'''\n",
    "10_1.關係與邏輯運算子-數值比較(10.0)\n",
    "'''\n",
    "print(3<5)\n",
    "print(3>5)\n",
    "print(3!=5)\n",
    "print(3==3)"
   ]
  },
  {
   "cell_type": "code",
   "execution_count": 1,
   "metadata": {},
   "outputs": [
    {
     "name": "stdout",
     "output_type": "stream",
     "text": [
      "True\n",
      "False\n",
      "True\n",
      "True\n"
     ]
    }
   ],
   "source": [
    "'''\n",
    "10_1.關係與邏輯運算子-數值比較(10.0)\n",
    "'''\n",
    "print(3<5)\n",
    "print(3>5)\n",
    "print(3!=5)\n",
    "print(3==3)"
   ]
  },
  {
   "cell_type": "markdown",
   "metadata": {},
   "source": [
    "寫下以下程式碼，印出其比較的結果。\n",
    "print(\"abc\"==\"abcd\")\n",
    "print(\"abcd\"==\"abcd\")\n",
    "print(\"abc\">\"abd\")\n",
    "print(\"abc\"<\"abd\")\n",
    "print(\"23\"<\"3\")\n",
    "print(\"abc\"!=\"abc\")\n",
    "print(\"abc\"!=\"ABC\")\n",
    "\n",
    "輸入範例: \n",
    "\n",
    "輸出範例:\n",
    "False\n",
    "True\n",
    "False\n",
    "True\n",
    "True\n",
    "False\n",
    "True"
   ]
  },
  {
   "cell_type": "code",
   "execution_count": 2,
   "metadata": {},
   "outputs": [
    {
     "name": "stdout",
     "output_type": "stream",
     "text": [
      "False\n",
      "True\n",
      "False\n",
      "True\n",
      "True\n",
      "False\n",
      "True\n"
     ]
    }
   ],
   "source": [
    "'''\n",
    "10_2.關係與邏輯運算子-字元比較(10.0)\n",
    "'''\n",
    "print(\"abc\"==\"abcd\")\n",
    "print(\"abcd\"==\"abcd\")\n",
    "print(\"abc\">\"abd\")\n",
    "print(\"abc\"<\"abd\")\n",
    "print(\"23\"<\"3\")\n",
    "print(\"abc\"!=\"abc\")\n",
    "print(\"abc\"!=\"ABC\")"
   ]
  },
  {
   "cell_type": "markdown",
   "metadata": {},
   "source": [
    "寫一個程式，輸入兩個好朋友的年齡，判斷兩人是否是同歲，同歲數則印出True。\n",
    "\n",
    "輸入範例: \n",
    "20\n",
    "20\n",
    "\n",
    "輸出範例:\n",
    "True\n",
    "\n",
    "範例程式：\n",
    "age1 = int(input())\n",
    "age2 = int(input())\n",
    "print(age1 比較運算子 age2)"
   ]
  },
  {
   "cell_type": "code",
   "execution_count": null,
   "metadata": {},
   "outputs": [],
   "source": [
    "'''\n",
    "10_3.關係與邏輯運算子-同齡好友(10.0)\n",
    "'''\n",
    "A = int(input())\n",
    "B = int(input())\n",
    "\n",
    "print(A == B)"
   ]
  },
  {
   "cell_type": "markdown",
   "metadata": {},
   "source": [
    "寫一個程式，輸入兩個好朋友的年齡，判斷兩人是否是同歲，不同歲數則印出True。\n",
    "\n",
    "輸入範例: \n",
    "20\n",
    "21\n",
    "\n",
    "輸出範例:\n",
    "True"
   ]
  },
  {
   "cell_type": "code",
   "execution_count": null,
   "metadata": {},
   "outputs": [],
   "source": [
    "'''\n",
    "10_4.關係與邏輯運算子-忘年之交(10.0)\n",
    "'''\n",
    "A = int(input())\n",
    "B = int(input())\n",
    "\n",
    "if  A != B:\n",
    "    print(True)\n",
    "else: \n",
    "    print(False)\n",
    "    \n",
    "    "
   ]
  },
  {
   "cell_type": "markdown",
   "metadata": {},
   "source": [
    "寫一個程式，寫下以下程式碼，印出其比較運算的結果。\n",
    "print(3>5 and 5<10)\n",
    "print(3<5 and 5<10)\n",
    "print(3>5 and 5>10)\n",
    "print(3>5 or 5<10)\n",
    "print(3<5 or 5<10)\n",
    "print(3>5 or 5>10)\n",
    "print(not(3>5 and 5<10))\n",
    "print(not(3<5 and 5<10))\n",
    "print(not(3>5 and 5>10))\n",
    "輸入範例:\n",
    "\n",
    "輸出範例:\n",
    "False\n",
    "True\n",
    "False\n",
    "True\n",
    "True\n",
    "False\n",
    "True\n",
    "False\n",
    "True"
   ]
  },
  {
   "cell_type": "code",
   "execution_count": 3,
   "metadata": {},
   "outputs": [
    {
     "name": "stdout",
     "output_type": "stream",
     "text": [
      "False\n",
      "True\n",
      "False\n",
      "True\n",
      "True\n",
      "False\n",
      "True\n",
      "False\n",
      "True\n"
     ]
    }
   ],
   "source": [
    "print(3>5 and 5<10)\n",
    "print(3<5 and 5<10)\n",
    "print(3>5 and 5>10)\n",
    "print(3>5 or 5<10)\n",
    "print(3<5 or 5<10)\n",
    "print(3>5 or 5>10)\n",
    "print(not(3>5 and 5<10))\n",
    "print(not(3<5 and 5<10))\n",
    "print(not(3>5 and 5>10))"
   ]
  },
  {
   "cell_type": "markdown",
   "metadata": {},
   "source": [
    "寫一個程式，輸入今天是星期幾，要上課的日子是True。\n",
    "\n",
    "星期一到星期五要上課，因此輸入1、2、3、4或5是True的狀態，其餘則是False。\n",
    "輸入範例: \n",
    "6\n",
    "\n",
    "輸出範例:\n",
    "False"
   ]
  },
  {
   "cell_type": "code",
   "execution_count": null,
   "metadata": {},
   "outputs": [],
   "source": [
    "'''\n",
    "10_6.關係與邏輯運算子-今天要上課(10.0)\n",
    "'''\n",
    "day = int(input())\n",
    "\n",
    "is_day= day >= 1 and day <= 5\n",
    "\n",
    "print(is_day)"
   ]
  },
  {
   "cell_type": "markdown",
   "metadata": {},
   "source": [
    "寫一個程式，輸入遊客年齡，判斷是否要門票，判斷規則如下：\n",
    "\n",
    "12歲以下兒童免門票\n",
    " 65歲以上老人免門票\n",
    "不需要買門票者為False\n",
    "\n",
    "輸入範例: \n",
    "66\n",
    "\n",
    "輸出範例:\n",
    "False"
   ]
  },
  {
   "cell_type": "code",
   "execution_count": null,
   "metadata": {},
   "outputs": [],
   "source": [
    "'''\n",
    "10_7.關係與邏輯運算子-兒童老人免門票(20.0)\n",
    "'''\n",
    "\n",
    "age = int(input())\n",
    "\n",
    "if age <=12 or age >=65:\n",
    "    print(False)\n",
    "\n",
    "else:\n",
    "    print(True)"
   ]
  },
  {
   "cell_type": "markdown",
   "metadata": {},
   "source": [
    "寫一個程式，判斷體重是否標準：\n",
    "BMI(Body Mass Index)的全名是身體質量指數，為目前國際最常用來量度體質的指數。 當BMI大於 18.5 且小於等於 24 時代表體重是標準的。 透過該指數，我們可以瞭解身體的脂肪量是否恰當，\n",
    "其計算公式如下： BMI = 體重(公斤) / 身高2(公尺2) （BMI = 體重除以身高的平方，身高的單位為公尺） 使用者輸入體重(公斤)與身高(公尺) 請印出 BMI 值，體重標準者為True。\n",
    "\n",
    "輸入範例: \n",
    "50\n",
    "1.58\n",
    "\n",
    "輸出範例: \n",
    "20.028841531805796\n",
    "True"
   ]
  },
  {
   "cell_type": "code",
   "execution_count": null,
   "metadata": {},
   "outputs": [],
   "source": [
    "'''\n",
    "10_8.關係與邏輯運算子-BMI標準嗎(20.0)\n",
    "'''\n",
    "weight = int(input())\n",
    "high = float(input())\n",
    "\n",
    "def cal_BMI(weight,high):\n",
    "    BMI_value = weight/(high**2)\n",
    "    return BMI_value\n",
    "    \n",
    "BMI = cal_BMI(weight,high)    \n",
    "\n",
    "if 18.5 <= BMI <= 24:\n",
    "    print(f\"{BMI:.15f}\")\n",
    "    print(True)\n",
    "else:\n",
    "    print(False)"
   ]
  },
  {
   "cell_type": "markdown",
   "metadata": {},
   "source": [
    "寫一個程式，輸入一個英文單字，單字內有母音(a, e, i, o, u)的為true。\n",
    "\n",
    "輸入範例: \n",
    "apple\n",
    "\n",
    "輸出範例:\n",
    "True"
   ]
  },
  {
   "cell_type": "code",
   "execution_count": null,
   "metadata": {},
   "outputs": [],
   "source": [
    "'''\n",
    "10_9.關係與邏輯運算子-自主學習(5.0)\n",
    "'''\n",
    "\n",
    "# 輸入一個英文單字\n",
    "word = input().lower()\n",
    "\n",
    "# 定義母音\n",
    "vowels = \"aeiou\"\n",
    "\n",
    "# 判斷單字中是否有母音\n",
    "has_vowel = any(char in vowels for char in word)\n",
    "\n",
    "# 輸出結果\n",
    "print(has_vowel)\n"
   ]
  }
 ],
 "metadata": {
  "kernelspec": {
   "display_name": "Python 3",
   "language": "python",
   "name": "python3"
  },
  "language_info": {
   "codemirror_mode": {
    "name": "ipython",
    "version": 3
   },
   "file_extension": ".py",
   "mimetype": "text/x-python",
   "name": "python",
   "nbconvert_exporter": "python",
   "pygments_lexer": "ipython3",
   "version": "3.12.1"
  }
 },
 "nbformat": 4,
 "nbformat_minor": 2
}
