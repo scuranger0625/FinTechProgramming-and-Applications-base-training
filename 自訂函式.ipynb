{
 "cells": [
  {
   "cell_type": "markdown",
   "metadata": {},
   "source": [
    "請設計一個名為 add的add() 函式，計算兩個數的和，並回傳到主程式。\n",
    "\n",
    "輸入範例:\n",
    "10\n",
    "45\n",
    "\n",
    "輸出範例: \n",
    "55"
   ]
  },
  {
   "cell_type": "code",
   "execution_count": 3,
   "metadata": {},
   "outputs": [
    {
     "name": "stdout",
     "output_type": "stream",
     "text": [
      "55\n"
     ]
    }
   ],
   "source": [
    "'''\n",
    "21_1.自訂函式-相加(5.0)\n",
    "'''\n",
    "def add(x,y):\n",
    "      sum=x+y\n",
    "      return sum\n",
    "\n",
    "x=int(input())\n",
    "y=int(input())\n",
    "print(add(x,y))"
   ]
  },
  {
   "cell_type": "markdown",
   "metadata": {},
   "source": [
    "根據python函式的定義，自訂一個名為hello的函式，印出Hello function。\n",
    "\n",
    "輸入範例:\n",
    "\n",
    "輸出範例: \n",
    "Hello function"
   ]
  },
  {
   "cell_type": "code",
   "execution_count": 1,
   "metadata": {},
   "outputs": [
    {
     "name": "stdout",
     "output_type": "stream",
     "text": [
      "Hello function\n"
     ]
    }
   ],
   "source": [
    "'''\n",
    "21_2.自訂函式-Hello function(5.0)\n",
    "'''\n",
    "def hello():\n",
    "    print(\"Hello function\")\n",
    "\n",
    "hello()"
   ]
  },
  {
   "cell_type": "markdown",
   "metadata": {},
   "source": [
    "根據python函式的定義，自訂一個名為hello的函式，印出Hello function，此函式可以印出n次的Hello function。\n",
    "\n",
    "輸入範例:\n",
    "10\n",
    "輸出範例: \n",
    "Hello function\n",
    "Hello function\n",
    "Hello function\n",
    "Hello function\n",
    "Hello function\n",
    "Hello function\n",
    "Hello function\n",
    "Hello function\n",
    "Hello function\n",
    "Hello function"
   ]
  },
  {
   "cell_type": "code",
   "execution_count": 4,
   "metadata": {},
   "outputs": [
    {
     "name": "stdout",
     "output_type": "stream",
     "text": [
      "Hello function\n",
      "Hello function\n",
      "Hello function\n",
      "Hello function\n",
      "Hello function\n",
      "Hello function\n",
      "Hello function\n",
      "Hello function\n",
      "Hello function\n",
      "Hello function\n"
     ]
    }
   ],
   "source": [
    "'''\n",
    "21_3.自訂函式-Hello funtion 10次(5.0)\n",
    "'''\n",
    "def hello(n):\n",
    "    for i in range(1,1+n,1):\n",
    "        print(\"Hello function\")\n",
    "\n",
    "n=int(input())\n",
    "hello(n)"
   ]
  },
  {
   "cell_type": "markdown",
   "metadata": {},
   "source": [
    "你會算1到100的和嗎?有甚麼方法呢?\n",
    "\n",
    "方法1：使用梯形面積公式，(上底+下底)*高/\n",
    "方法2：使用迴圈從1開始每一次遞增1，然後逐筆累加。\n",
    "除了以上兩種方法，我們要介紹函式的方法，來解決這個問題。\n",
    "請設計一個名為 add的add() 函式，計算1加到100的和，並回傳到主程式。\n",
    "\n",
    "輸入範例:\n",
    "\n",
    "輸出範例: \n",
    "5050"
   ]
  },
  {
   "cell_type": "code",
   "execution_count": 5,
   "metadata": {},
   "outputs": [
    {
     "name": "stdout",
     "output_type": "stream",
     "text": [
      "5050\n"
     ]
    }
   ],
   "source": [
    "'''\n",
    "21_4.自訂函式-累加(5.0)\n",
    "'''\n",
    "def add():\n",
    "      sum=0\n",
    "      for i in range(1, 101, 1):\n",
    "           sum=sum+i\n",
    "      return sum\n",
    "print(add())"
   ]
  },
  {
   "cell_type": "markdown",
   "metadata": {},
   "source": [
    "你會算1到n的和嗎?有甚麼方法呢?\n",
    "\n",
    "方法1：使用梯形面積公式，(上底+下底)*高/\n",
    "方法2：使用迴圈從1開始每一次遞增1，然後逐筆累加。\n",
    "除了以上兩種方法，我們要介紹以函式的方法，來解決這個問題。\n",
    "請設計一個名為 add的add() 函式，計算1加到n的和，並回傳到主程式，本題請先使用自訂函式add設計方法1的程式。\n",
    "\n",
    "輸入範例:\n",
    "10\n",
    "\n",
    "輸出範例: \n",
    "55"
   ]
  },
  {
   "cell_type": "code",
   "execution_count": 6,
   "metadata": {},
   "outputs": [
    {
     "name": "stdout",
     "output_type": "stream",
     "text": [
      "55\n"
     ]
    }
   ],
   "source": [
    "'''\n",
    "21_5.自訂函式-累加-梯形公式(5.0)\n",
    "'''\n",
    "def add(x):\n",
    "  sum =int((1+x)*x/2)\n",
    "  return sum\n",
    "\n",
    "x=int(input())\n",
    "print(add(x))"
   ]
  },
  {
   "cell_type": "markdown",
   "metadata": {},
   "source": [
    "你會算1到n的和嗎?有甚麼方法呢?\n",
    "\n",
    "方法1：使用梯形面積公式，(上底+下底)*高/\n",
    "方法2：使用迴圈從1開始每一次遞增1，然後逐筆累加。\n",
    "除了以上兩種方法，我們要介紹已函式的方法，來解決這個問題。\n",
    "請設計一個名為 add的add() 函式，使用方法2設計自訂函式，並回傳到主程式。\n",
    "\n",
    "輸入範例:\n",
    "10\n",
    "\n",
    "輸出範例: \n",
    "55"
   ]
  },
  {
   "cell_type": "code",
   "execution_count": 7,
   "metadata": {},
   "outputs": [
    {
     "name": "stdout",
     "output_type": "stream",
     "text": [
      "55\n"
     ]
    }
   ],
   "source": [
    "'''\n",
    "21_6.自訂函式-相加-累加(10.0)\n",
    "'''\n",
    "def add(n):\n",
    "    total = 0\n",
    "    for i in range(1,n+1):\n",
    "        total += i\n",
    "    return total\n",
    "\n",
    "\n",
    "# 主程式\n",
    "if __name__ == \"__main__\":    \n",
    "    n = int(input())\n",
    "    print(add(n))"
   ]
  },
  {
   "cell_type": "markdown",
   "metadata": {},
   "source": [
    "請用自訂一個名字含有area的函式解題。\n",
    "\n",
    "計算高 10，半徑 3 的圓柱體體積(圓周率=3.14)是多少？\n",
    "以及當半徑多加 2 後，圓柱體體積又會變成是多少？\n",
    "\n",
    "請注意，如果沒有依照上述規則，將會產生無法判分的情形。\n",
    "\n",
    "輸出範例: \n",
    "半徑3時的圓柱體體積: 282.6\n",
    "半徑5時的原柱體體積: 785.0"
   ]
  },
  {
   "cell_type": "code",
   "execution_count": 8,
   "metadata": {},
   "outputs": [
    {
     "name": "stdout",
     "output_type": "stream",
     "text": [
      "半徑3時的圓柱體體積: 282.6\n",
      "半徑5時的圓柱體體積: 785.0\n"
     ]
    }
   ],
   "source": [
    "'''\n",
    "21_7.自訂函式-圓柱體體積(10.0)\n",
    "'''\n",
    "def area3(r, h):\n",
    "      area2=r*r*3.14 # 圓面積公式\n",
    "      return area2 * h # 圓柱體公式\n",
    "r = 3\n",
    "volume = area3(r, 10)\n",
    "print('半徑{0}時的圓柱體體積: {1}'.format(r, volume))\n",
    "r = 3+2\n",
    "volume = area3(r, 10)\n",
    "print('半徑{0}時的圓柱體體積: {1}'.format(r, volume))"
   ]
  },
  {
   "cell_type": "markdown",
   "metadata": {},
   "source": [
    "設計一個名為volume的自訂函式，計算圓柱體的體積：輸入半徑與高，計算圓柱體體積(圓周率=3.14)。\n",
    "\n",
    "使用自定函式的方法，程式會先呼叫一個圓柱體體積的函式 volume()， 再由 volume() 呼叫計算面積函式 area() 而完成體積計算，程式可以重複執行 10 次。\n",
    "\n",
    "雖然有點煩，但是請用這個簡單的例子，體驗將大問題切成小問題的方法。\n",
    "\n",
    "輸入範例: \n",
    "3\n",
    "4\n",
    "5\n",
    "5\n",
    "6\n",
    "6\n",
    "11\n",
    "15\n",
    "6\n",
    "6\n",
    "73\n",
    "4\n",
    "40\n",
    "4\n",
    "6\n",
    "8\n",
    "8\n",
    "9\n",
    "10\n",
    "10\n",
    "\n",
    "輸出範例: \n",
    "圓柱體體積113.04\n",
    "圓柱體體積392.50\n",
    "圓柱體體積678.24\n",
    "圓柱體體積5699.10\n",
    "圓柱體體積678.24\n",
    "圓柱體體積66932.24\n",
    "圓柱體體積20096.00\n",
    "圓柱體體積904.32\n",
    "圓柱體體積1808.64\n",
    "圓柱體體積3140.00"
   ]
  },
  {
   "cell_type": "code",
   "execution_count": 9,
   "metadata": {},
   "outputs": [
    {
     "name": "stdout",
     "output_type": "stream",
     "text": [
      "圓柱體體積113.04\n",
      "圓柱體體積392.50\n",
      "圓柱體體積678.24\n",
      "圓柱體體積5699.10\n",
      "圓柱體體積678.24\n",
      "圓柱體體積66932.24\n",
      "圓柱體體積20096.00\n",
      "圓柱體體積904.32\n",
      "圓柱體體積1808.64\n",
      "圓柱體體積3140.00\n"
     ]
    }
   ],
   "source": [
    "'''\n",
    "21_8.自訂函式-圓面積與體積(10.0)\n",
    "'''\n",
    "def area(radius):\n",
    "    pi = 3.14\n",
    "    return radius ** 2 * pi\n",
    "    \n",
    "def volume(radius,height): # 採用半徑與高度的函式\n",
    "    return area(radius) * height\n",
    "    \n",
    "if __name__ == \"__main__\":\n",
    "    for i in range(10):\n",
    "        radius = int(input())\n",
    "        height = int(input())\n",
    "        print(f\"圓柱體體積{volume(radius, height):.2f}\")\n"
   ]
  },
  {
   "cell_type": "markdown",
   "metadata": {},
   "source": [
    "請設計一個名為madepow的函式解決以下問題：\n",
    "\n",
    "計算 x 的 y 次方，直到 x=0 為止。\n",
    "\n",
    "輸入範例: \n",
    "3\n",
    "2\n",
    "4\n",
    "3\n",
    "10\n",
    "2\n",
    "5\n",
    "4\n",
    "6\n",
    "3\n",
    "0\n",
    "\n",
    "輸出範例: \n",
    "9\n",
    "64\n",
    "100\n",
    "625\n",
    "216"
   ]
  },
  {
   "cell_type": "code",
   "execution_count": 10,
   "metadata": {},
   "outputs": [
    {
     "name": "stdout",
     "output_type": "stream",
     "text": [
      "9\n",
      "64\n",
      "100\n",
      "625\n",
      "216\n"
     ]
    }
   ],
   "source": [
    "'''\n",
    "21_9.自訂函式-x的y次方(10.0)\n",
    "'''\n",
    "def madepow():\n",
    "    while True:\n",
    "        x = int(input())\n",
    "        if x == 0 :\n",
    "            break\n",
    "        y = int(input())\n",
    "        print(x**y)\n",
    "        \n",
    "if __name__ == \"__main__\":\n",
    "    madepow()\n"
   ]
  },
  {
   "cell_type": "markdown",
   "metadata": {},
   "source": [
    "使用自訂函式的方法，自訂名為crazyprint的函式解題，印出為什麼需要副程式，方便我瘋狂列印。 輸入一個整數 N，決定列印次數。\n",
    "\n",
    "輸入範例: \n",
    "10\n",
    "\n",
    "輸出範例: \n",
    "為什麼需要副程式，方便我瘋狂列印。\n",
    "為什麼需要副程式，方便我瘋狂列印。\n",
    "為什麼需要副程式，方便我瘋狂列印。\n",
    "為什麼需要副程式，方便我瘋狂列印。\n",
    "為什麼需要副程式，方便我瘋狂列印。\n",
    "為什麼需要副程式，方便我瘋狂列印。\n",
    "為什麼需要副程式，方便我瘋狂列印。\n",
    "為什麼需要副程式，方便我瘋狂列印。\n",
    "為什麼需要副程式，方便我瘋狂列印。\n",
    "為什麼需要副程式，方便我瘋狂列印。"
   ]
  },
  {
   "cell_type": "code",
   "execution_count": 11,
   "metadata": {},
   "outputs": [
    {
     "name": "stdout",
     "output_type": "stream",
     "text": [
      "為什麼需要副程式，方便我瘋狂列印。\n",
      "為什麼需要副程式，方便我瘋狂列印。\n",
      "為什麼需要副程式，方便我瘋狂列印。\n",
      "為什麼需要副程式，方便我瘋狂列印。\n",
      "為什麼需要副程式，方便我瘋狂列印。\n",
      "為什麼需要副程式，方便我瘋狂列印。\n",
      "為什麼需要副程式，方便我瘋狂列印。\n",
      "為什麼需要副程式，方便我瘋狂列印。\n",
      "為什麼需要副程式，方便我瘋狂列印。\n",
      "為什麼需要副程式，方便我瘋狂列印。\n"
     ]
    }
   ],
   "source": [
    "'''\n",
    "21_10.自訂函式-無傳回值函數(10.0)\n",
    "'''\n",
    "def crazyprint():\n",
    "    N = int(input())\n",
    "    for i in range(N):\n",
    "        print(\"為什麼需要副程式，方便我瘋狂列印。\")\n",
    "\n",
    "if __name__ == \"__main__\":\n",
    "    crazyprint()"
   ]
  },
  {
   "cell_type": "markdown",
   "metadata": {},
   "source": [
    "請自定名為prime的函式來解題。\n",
    "\n",
    "質數的定義為：除了 1 和它本身之外，沒有別的數可以整除它的。\n",
    "\n",
    "給一個整數代表測試資料筆數，判斷每一個數是否為質數。\n",
    "\n",
    "輸入範例: \n",
    "10(代表次數，以10為例)\n",
    "409\n",
    "37\n",
    "311\n",
    "211\n",
    "84\n",
    "96\n",
    "91\n",
    "241\n",
    "311\n",
    "283\n",
    "\n",
    "輸出範例:\n",
    "質數\n",
    "質數\n",
    "質數\n",
    "質數\n",
    "不是質數\n",
    "不是質數\n",
    "不是質數\n",
    "質數\n",
    "質數\n",
    "質數"
   ]
  },
  {
   "cell_type": "code",
   "execution_count": 12,
   "metadata": {},
   "outputs": [
    {
     "name": "stdout",
     "output_type": "stream",
     "text": [
      "質數\n",
      "質數\n",
      "質數\n",
      "質數\n",
      "不是質數\n",
      "不是質數\n",
      "不是質數\n",
      "質數\n",
      "質數\n",
      "質數\n"
     ]
    }
   ],
   "source": [
    "'''\n",
    "21_11.自訂函式-質數判斷(15.0)\n",
    "'''\n",
    "my_list=[] # 創建空的列表\n",
    "\n",
    "def prime():\n",
    "    # 測試資料筆數\n",
    "    test = int(input())\n",
    "    # 輸入測試資料\n",
    "    for _ in range(test):\n",
    "        n = int(input())\n",
    "        my_list.append(n)\n",
    "    \n",
    "    # 判斷是否為質數\n",
    "    for num in my_list:\n",
    "        if num > 1 : # 質數必須大於1\n",
    "            is_prime = True\n",
    "            # 非質數必為乘積n = a*b 所以a最大值不會超過n**0.5\n",
    "            for i in range(2,int(num ** 0.5) + 1) : \n",
    "                if num % i == 0:\n",
    "                    is_prime = False # 如果不是質數 則跳出迴圈\n",
    "                    break\n",
    "            if is_prime:\n",
    "                print(\"質數\")\n",
    "            else:\n",
    "                print(\"不是質數\")\n",
    "        # 小於1不是質數\n",
    "        else:\n",
    "            print(\"不是質數\")\n",
    "                    \n",
    "if __name__ == \"__main__\":\n",
    "    prime()"
   ]
  },
  {
   "cell_type": "markdown",
   "metadata": {},
   "source": [
    "請自訂 名為countprime的 函式練習(本題有限制要求，未依此規定不法判分)。\n",
    "\n",
    "質數的定義為：除了 1 和它本身之外，沒有別的數可以整除它的。\n",
    "\n",
    "給一個整數，計算小於等於此數的質數個數，程式可以重複執行直到小於 1 為止。\n",
    "輸入到小於 2 時結束。\n",
    "\n",
    "輸入範例:\n",
    "2\n",
    "3\n",
    "4\n",
    "5\n",
    "6\n",
    "7\n",
    "8\n",
    "9\n",
    "10\n",
    "30\n",
    "40\n",
    "50\n",
    "60\n",
    "1\n",
    "\n",
    "輸出範例: \n",
    "1\n",
    "2\n",
    "2\n",
    "3\n",
    "3\n",
    "4\n",
    "4\n",
    "4\n",
    "4\n",
    "10\n",
    "12\n",
    "15\n",
    "17"
   ]
  },
  {
   "cell_type": "code",
   "execution_count": 13,
   "metadata": {},
   "outputs": [
    {
     "name": "stdout",
     "output_type": "stream",
     "text": [
      "1\n",
      "2\n",
      "2\n",
      "3\n",
      "3\n",
      "4\n",
      "4\n",
      "4\n",
      "4\n",
      "10\n",
      "12\n",
      "15\n",
      "17\n"
     ]
    }
   ],
   "source": [
    "'''\n",
    "21_12.自訂函式-質數個數(10.0)\n",
    "'''\n",
    "\n",
    "def countprime(num):\n",
    "    count = 0 # 計數器\n",
    "    # 判斷是否為質數\n",
    "    for num in range(2,num+1,1):\n",
    "        is_prime = True\n",
    "        # 非質數必為乘積n = a*b 所以a最大值不會超過n**0.5\n",
    "        for i in range(2,int(num ** 0.5) + 1) : \n",
    "            if num % i == 0:\n",
    "                is_prime = False\n",
    "                break\n",
    "        if is_prime:\n",
    "            count += 1\n",
    "    return count\n",
    "\n",
    "if __name__ == \"__main__\":\n",
    "    while True :\n",
    "        try:\n",
    "            num = int(input())\n",
    "            if num < 2:\n",
    "                break\n",
    "            print(countprime(num))  # 輸出質數個數\n",
    "        except ValueError :\n",
    "            print(\"please input correct num again!\")"
   ]
  },
  {
   "cell_type": "markdown",
   "metadata": {},
   "source": [
    "請用自訂函式 countprime() 解題。\n",
    "\n",
    "質數的定義為：除了 1 和它本身之外，沒有別的數可以整除它的。\n",
    "\n",
    "你的程式必須輸入兩正整數 A、B，請傳回 A~B 之間(包含A、B)有多少個質數。 程式需重複執行，直到輸入 A 大於 B 為止。\n",
    "\n",
    "輸入範例: \n",
    "1 10\n",
    "10 20\n",
    "20 30\n",
    "30 40\n",
    "2 1\n",
    "\n",
    "輸出範例: \n",
    "4\n",
    "4\n",
    "2\n",
    "2"
   ]
  },
  {
   "cell_type": "code",
   "execution_count": 14,
   "metadata": {},
   "outputs": [
    {
     "name": "stdout",
     "output_type": "stream",
     "text": [
      "4\n",
      "4\n",
      "2\n",
      "2\n"
     ]
    }
   ],
   "source": [
    "'''\n",
    "21_13.自訂函式-彈：也是質數個數(5.0)\n",
    "'''\n",
    "def countprime():\n",
    "    while True:\n",
    "        try:\n",
    "            # map() 是一個把函式「套用」到每個元素上的工具。\n",
    "            A, B = map(int, input().split())  # 同一行讀取 A 和 B  輸入時需空一格\n",
    "            if A > B:\n",
    "                break\n",
    "            count = 0\n",
    "            for i in range(A, B+1):\n",
    "                if i < 2:\n",
    "                    continue # < 2 的不是質數\n",
    "                for j in range(2,int(i**0.5)+1):  # 判斷是否為質數（只檢查到平方根）\n",
    "                    if i % j == 0 :\n",
    "                        break\n",
    "                else:\n",
    "                    count += 1\n",
    "            print(count)\n",
    "        except: #try-excepr 可捕捉ValueError\n",
    "            break\n",
    "countprime()"
   ]
  },
  {
   "cell_type": "markdown",
   "metadata": {},
   "source": [
    "請用自訂名為prime的函式解題(本題有限制要求，未依此規定不法判分)。\n",
    "\n",
    "質數的定義為：除了 1 和它本身之外，沒有別的數可以整除它的。\n",
    "\n",
    "你的程式必須當輸入一正整數 M，請找出小於 M 的最大質數，並回傳該值。 程式需重複執行，直到輸入 -1 為止。\n",
    "\n",
    "輸入範例: \n",
    "6\n",
    "9\n",
    "20\n",
    "-1\n",
    "\n",
    "輸出範例: \n",
    "5\n",
    "7\n",
    "19"
   ]
  },
  {
   "cell_type": "code",
   "execution_count": 15,
   "metadata": {},
   "outputs": [
    {
     "name": "stdout",
     "output_type": "stream",
     "text": [
      "5\n",
      "7\n",
      "19\n"
     ]
    }
   ],
   "source": [
    "'''\n",
    "21_14.自訂函式-彈: 最大質數(5.0)\n",
    "'''\n",
    "\n",
    "def prime():\n",
    "    try:\n",
    "        while True:\n",
    "            M = int(input())\n",
    "            if M == -1 :\n",
    "                break\n",
    "            max_prime = -1  # 預設沒找到質數\n",
    "            \n",
    "            # 因為要找出<M的最大質數 所以範圍是2~M-1\n",
    "            for i in range(2,M):\n",
    "                for j in range(2,int(i**0.5)+1):  # 判斷是否為質數（只檢查到平方根）\n",
    "                    if i % j == 0 :\n",
    "                        break\n",
    "                else:\n",
    "                    max_prime = i # 每找到一個質數就更新最大值\n",
    "            \n",
    "            print(max_prime)\n",
    "    except:\n",
    "        print(\"error\")\n",
    "    \n",
    "prime()"
   ]
  }
 ],
 "metadata": {
  "kernelspec": {
   "display_name": "Python 3",
   "language": "python",
   "name": "python3"
  },
  "language_info": {
   "codemirror_mode": {
    "name": "ipython",
    "version": 3
   },
   "file_extension": ".py",
   "mimetype": "text/x-python",
   "name": "python",
   "nbconvert_exporter": "python",
   "pygments_lexer": "ipython3",
   "version": "3.13.1"
  }
 },
 "nbformat": 4,
 "nbformat_minor": 2
}
