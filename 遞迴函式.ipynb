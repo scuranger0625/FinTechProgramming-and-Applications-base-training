{
 "cells": [
  {
   "cell_type": "markdown",
   "metadata": {},
   "source": [
    "請設計名為add的函式，解決以下問題：\n",
    "使用者輸入一數字 n，需顯示從 1到n 的所有累加和。\n",
    "(建議使用遞迴函數)。\n",
    "\n",
    "輸入範例: \n",
    "20\n",
    "\n",
    "輸出範例: \n",
    "1\n",
    "3\n",
    "6\n",
    "10\n",
    "15\n",
    "21\n",
    "28\n",
    "36\n",
    "45\n",
    "55\n",
    "66\n",
    "78\n",
    "91\n",
    "105\n",
    "120\n",
    "136\n",
    "153\n",
    "171\n",
    "190\n",
    "210"
   ]
  },
  {
   "cell_type": "code",
   "execution_count": 3,
   "metadata": {},
   "outputs": [
    {
     "name": "stdout",
     "output_type": "stream",
     "text": [
      "1\n",
      "3\n",
      "6\n",
      "10\n",
      "15\n",
      "21\n",
      "28\n",
      "36\n",
      "45\n",
      "55\n",
      "66\n",
      "78\n",
      "91\n",
      "105\n",
      "120\n",
      "136\n",
      "153\n",
      "171\n",
      "190\n",
      "210\n"
     ]
    }
   ],
   "source": [
    "'''\n",
    "22_1.遞迴函式-1加到n(20.0)\n",
    "'''\n",
    "\n",
    "def add(i):\n",
    "    if i == 1:\n",
    "        return i\n",
    "    else:\n",
    "        return add(i-1)+ i\n",
    "        \n",
    "n = int(input())\n",
    "\n",
    "for i in range(1,n+1,1):\n",
    "    print(\"{0}\".format(add(i)))\n",
    "    \n",
    "    "
   ]
  },
  {
   "cell_type": "markdown",
   "metadata": {},
   "source": [
    "請設計名為level的函式，解決以下問題：\n",
    "使用者輸入一數字 n，需顯示從 1-n 的所有階乘值(建議使用遞迴函數)。\n",
    "\n",
    "輸入範例: \n",
    "6\n",
    "\n",
    "輸出範例: \n",
    "1!=1\n",
    "2!=2\n",
    "3!=6\n",
    "4!=24\n",
    "5!=120\n",
    "6!=720"
   ]
  },
  {
   "cell_type": "code",
   "execution_count": 4,
   "metadata": {},
   "outputs": [
    {
     "name": "stdout",
     "output_type": "stream",
     "text": [
      "1!=1\n",
      "2!=2\n",
      "3!=6\n",
      "4!=24\n",
      "5!=120\n",
      "6!=720\n"
     ]
    }
   ],
   "source": [
    "'''\n",
    "22_2.遞迴函式-階乘(20.0)\n",
    "'''\n",
    "\n",
    "def level(i):\n",
    "    if i <= 1:\n",
    "        return 1\n",
    "    else:\n",
    "        return i * level(i-1)\n",
    "\n",
    "n = int(input())\n",
    "for i in range(1,n+1,1):\n",
    "    print(f\"{i}!={level(i)}\")\n",
    "\n",
    "\n"
   ]
  },
  {
   "cell_type": "markdown",
   "metadata": {},
   "source": [
    "費氏數列 0, 1, 1, 2, 3, 5, 8, 13, 21, ... 以 0 和 1 起頭，然後接下來的每一項均為其前兩項的和。 請設計一個 fibonacci(x) 函式，產生 x 項的 Fibonacci 數列。\n",
    "\n",
    "輸入範例: \n",
    "10\n",
    "\n",
    "輸出範例: \n",
    "1 1 2 3 5 8 13 21 34 55"
   ]
  },
  {
   "cell_type": "code",
   "execution_count": 5,
   "metadata": {},
   "outputs": [
    {
     "name": "stdout",
     "output_type": "stream",
     "text": [
      "1 1 2 3 5 8 13 21 34 55\n"
     ]
    }
   ],
   "source": [
    "'''\n",
    "22_3.遞迴函式-費氏數列(20.0)\n",
    "'''\n",
    "\n",
    "def fibonacci(x):\n",
    "    if x == 1:\n",
    "        return[1]\n",
    "    elif x == 2:\n",
    "        return[1,1]\n",
    "    \n",
    "    fib_seq =[1,1]\n",
    "    \n",
    "    for i in range(2,x):\n",
    "        fib_seq.append(fib_seq[-1]+fib_seq[-2])\n",
    "    \n",
    "    return fib_seq\n",
    "\n",
    "x = int(input()) # 總共有幾項\n",
    "\n",
    "# join()將序列轉換為字串 \"分隔符\".join(可迭代物件)\n",
    "# map()對序列中的每個元素執行特定函式 map(函式, 可迭代物件)\n",
    "print(\" \".join(map(str,fibonacci(x))))\n"
   ]
  },
  {
   "cell_type": "markdown",
   "metadata": {},
   "source": [
    "遞迴數列 假設一個數列 K 的前兩項是 0、1，而之後的每一項為 Kn=2*K(n-1)+3*K(n-2)。\n",
    "\n",
    "請設計一函數 def k(n)，由使用者輸入一個正整數 N，印出數列 K 的第 N 項。 程式需重複執行，直到輸入數字小於 1 為止。\n",
    "\n",
    "輸入範例: \n",
    "4\n",
    "5\n",
    "6\n",
    "7\n",
    "8\n",
    "9\n",
    "-1\n",
    "\n",
    "輸出範例: \n",
    "7\n",
    "20\n",
    "61\n",
    "182\n",
    "547\n",
    "1640"
   ]
  },
  {
   "cell_type": "code",
   "execution_count": 6,
   "metadata": {},
   "outputs": [
    {
     "name": "stdout",
     "output_type": "stream",
     "text": [
      "7\n",
      "20\n",
      "61\n",
      "182\n",
      "547\n",
      "1640\n"
     ]
    }
   ],
   "source": [
    "'''\n",
    "22_4.遞迴函式-遞迴數列(20.0)\n",
    "'''\n",
    "def k(n):\n",
    "    if n ==1:\n",
    "        return 0 # 第一項為0\n",
    "    elif n ==2:\n",
    "        return 1 # 第二項為1\n",
    "        \n",
    "    # Slide window\n",
    "    prev2,prev1= 0,1 # 初始化前兩項\n",
    "    \n",
    "    for i in range(3,n+1):\n",
    "        current = 2 * prev1 + 3 * prev2 # 計算當前項\n",
    "        prev2, prev1 = prev1 ,current # update slide window\n",
    "    \n",
    "    return prev1 # 返回第n項\n",
    "\n",
    "# 主程式\n",
    "while True :\n",
    "    try:\n",
    "        n = int(input())\n",
    "        if n < 1 :\n",
    "            break\n",
    "        # 輸出第n項\n",
    "        print(k(n))\n",
    "    except ValueError:\n",
    "        print(\"please input again\")"
   ]
  },
  {
   "cell_type": "markdown",
   "metadata": {},
   "source": [
    "請設計GCD函式解決以下問題：\n",
    "使用者輸入兩個整數，找出最大公因數。\n",
    "\n",
    "輸入範例: \n",
    "6\n",
    "18\n",
    "\n",
    "輸出範例: \n",
    "6"
   ]
  },
  {
   "cell_type": "code",
   "execution_count": 9,
   "metadata": {},
   "outputs": [
    {
     "name": "stdout",
     "output_type": "stream",
     "text": [
      "6\n"
     ]
    }
   ],
   "source": [
    "'''\n",
    "22_5.遞迴函式-最大公因數(20.0)\n",
    "'''\n",
    "import math\n",
    "\n",
    "a = int(input())\n",
    "b = int(input())\n",
    "\n",
    "print(math.gcd(a,b))\n",
    "\n",
    "\n",
    "    \n",
    "    "
   ]
  },
  {
   "cell_type": "code",
   "execution_count": 11,
   "metadata": {},
   "outputs": [
    {
     "name": "stdout",
     "output_type": "stream",
     "text": [
      "6\n"
     ]
    }
   ],
   "source": [
    "# 使用 遞迴版的歐幾里得演算法\n",
    "'''\n",
    "22_5.遞迴函式-最大公因數(20.0)\n",
    "'''\n",
    "\n",
    "def GCD(a, b):\n",
    "    # 基本情況：當 b == 0，回傳 a\n",
    "    if b == 0:\n",
    "        return a\n",
    "    else:\n",
    "        # 遞迴計算 GCD(b, a % b)\n",
    "        return GCD(b, a % b)\n",
    "\n",
    "# 使用者輸入兩個整數\n",
    "a = int(input())\n",
    "b = int(input())\n",
    "\n",
    "# 計算並輸出最大公因數\n",
    "print(GCD(a, b))"
   ]
  }
 ],
 "metadata": {
  "kernelspec": {
   "display_name": "venv",
   "language": "python",
   "name": "python3"
  },
  "language_info": {
   "codemirror_mode": {
    "name": "ipython",
    "version": 3
   },
   "file_extension": ".py",
   "mimetype": "text/x-python",
   "name": "python",
   "nbconvert_exporter": "python",
   "pygments_lexer": "ipython3",
   "version": "3.13.2"
  }
 },
 "nbformat": 4,
 "nbformat_minor": 2
}
