{
 "cells": [
  {
   "cell_type": "markdown",
   "metadata": {},
   "source": [
    "寫一個程式，輸入一個整數，代表分數，先不考慮不合理數據，\n",
    "\n",
    "如果大於等於60分，則印出此分及格；\n",
    "否則，印出此數不及格。\n",
    "此程式可執行10次。\n",
    "\n",
    "輸入範例:\n",
    "78\n",
    "17\n",
    "100\n",
    "80\n",
    "90\n",
    "56\n",
    "78\n",
    "48\n",
    "90\n",
    "99\n",
    "\n",
    "輸出範例: \n",
    "78分及格\n",
    "17分不及格\n",
    "100分及格\n",
    "80分及格\n",
    "90分及格\n",
    "56分不及格\n",
    "78分及格\n",
    "48分不及格\n",
    "90分及格\n",
    "99分及格"
   ]
  },
  {
   "cell_type": "code",
   "execution_count": null,
   "metadata": {},
   "outputs": [],
   "source": [
    "'''\n",
    "16_1.重複-計數器控制-10次判斷(20.0)\n",
    "'''\n",
    "i = 1\n",
    "\n",
    "while i <= 10 :\n",
    "    score= int(input())\n",
    "    if score >= 60 :\n",
    "        print(\"{0}分及格\".format(score))\n",
    "    else:\n",
    "        print(\"{0}分不及格\".format(score))\n",
    "    i=i+1"
   ]
  },
  {
   "cell_type": "markdown",
   "metadata": {},
   "source": [
    "寫一個程式，印出 HaHaHa! 10次。\n",
    "\n",
    "輸入範例: \n",
    "\n",
    "輸出範例: \n",
    "HaHaHa!\n",
    "HaHaHa!\n",
    "HaHaHa!\n",
    "HaHaHa!\n",
    "HaHaHa!\n",
    "HaHaHa!\n",
    "HaHaHa!\n",
    "HaHaHa!\n",
    "HaHaHa!\n",
    "HaHaHa!"
   ]
  },
  {
   "cell_type": "code",
   "execution_count": 1,
   "metadata": {},
   "outputs": [
    {
     "name": "stdout",
     "output_type": "stream",
     "text": [
      "HaHaHa!\n",
      "HaHaHa!\n",
      "HaHaHa!\n",
      "HaHaHa!\n",
      "HaHaHa!\n",
      "HaHaHa!\n",
      "HaHaHa!\n",
      "HaHaHa!\n",
      "HaHaHa!\n",
      "HaHaHa!\n"
     ]
    }
   ],
   "source": [
    "'''\n",
    "16_2.重複-計數器控制-寫10次(20.0)\n",
    "'''\n",
    "i=1\n",
    "while i in range(11):\n",
    "    print(\"HaHaHa!\")\n",
    "    i=i+1"
   ]
  },
  {
   "cell_type": "markdown",
   "metadata": {},
   "source": [
    "寫一個程式，我說幾次，就印幾次 HaHaHa!\n",
    "\n",
    "輸入範例: \n",
    "7\n",
    "\n",
    "輸出範例:\n",
    "HaHaHa!\n",
    "HaHaHa!\n",
    "HaHaHa!\n",
    "HaHaHa!\n",
    "HaHaHa!\n",
    "HaHaHa!\n",
    "HaHaHa!"
   ]
  },
  {
   "cell_type": "code",
   "execution_count": null,
   "metadata": {},
   "outputs": [],
   "source": [
    "'''\n",
    "16_3.重複-計數器控制-寫幾次(20.0)\n",
    "'''\n",
    "n = int(input())\n",
    "\n",
    "counter = 0\n",
    "\n",
    "while counter < n :\n",
    "    print(\"HaHaHa!\")\n",
    "    counter += 1"
   ]
  },
  {
   "cell_type": "markdown",
   "metadata": {},
   "source": [
    "撰寫一程式，\n",
    "\n",
    "輸入的第 1 個整數，代表後面輸入整數的個數 \n",
    "然後，逐一輸入各個整數 本題 6 代表可輸入 6 個整數，6 個整數如 1, 2, 3, 5, 6, 7\n",
    "輸入範例: \n",
    "6 (6代表要輸入6個整數，跨號內不必列印)\n",
    "1 (以下為輸入6個整數的範例，輸入一個數印出一個數，跨號內不必列印)\n",
    "2\n",
    "3\n",
    "5\n",
    "6\n",
    "7 \n",
    "\n",
    "輸出範例:\n",
    "1 \n",
    "2\n",
    "3\n",
    "5\n",
    "6\n",
    "7"
   ]
  },
  {
   "cell_type": "code",
   "execution_count": null,
   "metadata": {},
   "outputs": [],
   "source": [
    "'''\n",
    "16_4.重複-計數器控制-輸入整數(20.0)\n",
    "'''\n",
    "n = int(input())\n",
    "counter = 0\n",
    "\n",
    "while counter < n :\n",
    "    num = int(input())\n",
    "    print(num)\n",
    "    counter += 1\n"
   ]
  },
  {
   "cell_type": "markdown",
   "metadata": {},
   "source": [
    "延續上一題，撰寫一程式： \n",
    "\n",
    "第 1 個整數代表後面輸入整數的個數\n",
    "然後計算所有輸入整數的總和。\n",
    "輸入範例: \n",
    "6 (6代表要輸入6個整數，跨號內不必列印)\n",
    "1\n",
    "2\n",
    "3\n",
    "5\n",
    "6\n",
    "7\n",
    "\n",
    "輸出範例: \n",
    "24 (1+2+3+5+6+7的和,跨號請內不必印出)"
   ]
  },
  {
   "cell_type": "code",
   "execution_count": null,
   "metadata": {},
   "outputs": [],
   "source": [
    "'''\n",
    "16_5.重複-計數器控制-計算總和(10.0)\n",
    "'''\n",
    "n = int(input())\n",
    "counter = 0\n",
    "mylist=[]\n",
    "\n",
    "while counter < n :\n",
    "    num = int(input())\n",
    "    mylist.append(num)\n",
    "    counter += 1\n",
    "    \n",
    "print(sum(mylist))\n",
    "    \n"
   ]
  },
  {
   "cell_type": "markdown",
   "metadata": {},
   "source": [
    "延續上一題，請撰寫一程式，\n",
    "\n",
    "輸入的第 1 個整數代表後面輸入整數的個數，計算所有整數的平均值。\n",
    "輸出時請以小數點後1位呈現。\n",
    "\n",
    "輸入範例: \n",
    "6 (代表輸入6個整數,跨號請內不必印出) \n",
    "1\n",
    "2\n",
    "3\n",
    "5\n",
    "6\n",
    "6\n",
    "\n",
    "輸出範例:\n",
    "3.8"
   ]
  },
  {
   "cell_type": "code",
   "execution_count": null,
   "metadata": {},
   "outputs": [],
   "source": [
    "'''\n",
    "16_6.重複-計數器控制-計算平均(10.0)\n",
    "'''\n",
    "n = int(input())\n",
    "counter = 0\n",
    "mylist=[]\n",
    "\n",
    "while counter < n :\n",
    "    num = int(input())\n",
    "    mylist.append(num)\n",
    "    counter += 1\n",
    "    \n",
    "average = sum(mylist) / n\n",
    "print(f\"{average:.1f}\")"
   ]
  }
 ],
 "metadata": {
  "kernelspec": {
   "display_name": "Python 3",
   "language": "python",
   "name": "python3"
  },
  "language_info": {
   "codemirror_mode": {
    "name": "ipython",
    "version": 3
   },
   "file_extension": ".py",
   "mimetype": "text/x-python",
   "name": "python",
   "nbconvert_exporter": "python",
   "pygments_lexer": "ipython3",
   "version": "3.12.1"
  }
 },
 "nbformat": 4,
 "nbformat_minor": 2
}
