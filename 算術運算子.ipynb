{
 "cells": [
  {
   "cell_type": "markdown",
   "metadata": {},
   "source": [
    "寫一個程式，首先輸入一個x值，再輸入y值，依序執行以下運算並且印出結果：\n",
    "1.先將x的初值加5，得到新的x值\n",
    "2.再將y值減x(新值)，得到新的y值\n",
    "3.第三個值則是新的值x乘以y\n",
    "4.第四個值則是新的x除以y\n",
    "\n",
    "輸入範例: \n",
    "10\n",
    "20 \n",
    "\n",
    "輸出範例:\n",
    "15 5 75 3.0"
   ]
  },
  {
   "cell_type": "code",
   "execution_count": null,
   "metadata": {},
   "outputs": [],
   "source": [
    "'''\n",
    "9_1.算術運算子-四則運算-1(15.0)\n",
    "'''\n",
    "x=int(input())\n",
    "y=int(input())\n",
    "\n",
    "results=[]\n",
    "\n",
    "x=x+5\n",
    "results.append(x)\n",
    "y=y-x\n",
    "results.append(y)\n",
    "\n",
    "result1=x*y\n",
    "results.append(result1)\n",
    "\n",
    "if y !=0:\n",
    "    result2=x/y\n",
    "    results.append(result2)\n",
    "else:\n",
    "    results.append(\"ERROR\")\n",
    "# 用空格分隔的方式輸出列表中的每個值\n",
    "print(*results)"
   ]
  },
  {
   "cell_type": "markdown",
   "metadata": {},
   "source": [
    "寫一個程式，輸入2個整數， 印出兩數四則運算的結果。\n",
    "\n",
    "輸入範例: \n",
    "5\n",
    "2\n",
    "\n",
    "輸出範例:\n",
    "5+2=7\n",
    "5-2=3\n",
    "5*2=10\n",
    "5/2=2.5\n",
    "\n",
    "程示範例：\n",
    "num1 = 使用input取得第一個整數變數\n",
    "num2 = 使用input取得第二個整數變數\n",
    "print(\"{0}+{1}={2}\".format(num1, num2, num1+num2))"
   ]
  },
  {
   "cell_type": "code",
   "execution_count": null,
   "metadata": {},
   "outputs": [],
   "source": [
    "'''\n",
    "9_2.算術運算子-四則運算-2(15.0)\n",
    "'''\n",
    "num1=int(input())\n",
    "num2=int(input())\n",
    "\n",
    "print(\"{0}+{1}={2}\".format(num1, num2, num1+num2))\n",
    "print(\"{0}-{1}={2}\".format(num1, num2, num1-num2))\n",
    "print(\"{0}*{1}={2}\".format(num1, num2, num1*num2))\n",
    "print(\"{0}/{1}={2}\".format(num1, num2, num1/num2))"
   ]
  },
  {
   "cell_type": "markdown",
   "metadata": {},
   "source": [
    "寫一個程式，輸入2個整數變數x與y， 印出兩數的整數除法、餘數、指數次方與\n",
    "x**2 + y**2開根號的運算結果。\n",
    "\n",
    "提示：\n",
    "**次方運算\n",
    "a**b表示a的b次方\n",
    "\n",
    "輸入範例: \n",
    "5\n",
    "3\n",
    "\n",
    "輸出範例:\n",
    "1\n",
    "2\n",
    "125\n",
    "5.830951894845301"
   ]
  },
  {
   "cell_type": "code",
   "execution_count": null,
   "metadata": {},
   "outputs": [],
   "source": [
    "'''\n",
    "9_3.算術運算子-其他運算-1(10.0)\n",
    "'''\n",
    "import math\n",
    "\n",
    "# WTF? 這不是費曼的最後定律嗎?\n",
    "\n",
    "x=int(input())\n",
    "y=int(input())\n",
    "\n",
    "print(x//y)\n",
    "print(x%y)\n",
    "print(x**y)\n",
    "print(math.sqrt(x*x+y*y))"
   ]
  },
  {
   "cell_type": "markdown",
   "metadata": {},
   "source": [
    "寫一個程式，輸入四個值a,b,c,d，計算(a-b)/(c+d)的結果。\n",
    "\n",
    "輸入範例: \n",
    "50\n",
    "30\n",
    "6\n",
    "2\n",
    "\n",
    "輸出範例:\n",
    "2.5"
   ]
  },
  {
   "cell_type": "code",
   "execution_count": null,
   "metadata": {},
   "outputs": [],
   "source": [
    "'''\n",
    "9_4.算術運算子-其他運算-2(10.0)\n",
    "'''\n",
    "a=float(input())\n",
    "b=float(input())\n",
    "c=float(input())\n",
    "d=float(input())\n",
    "\n",
    "result= (a-b)/(c+d)\n",
    "\n",
    "print(result)"
   ]
  },
  {
   "cell_type": "markdown",
   "metadata": {},
   "source": [
    "寫一個程式，計算包粽子所花的時間。\n",
    "包 1 個粽子需要 的時間為1 分鐘 15 秒，連續包 X 個粽子共需要幾分幾秒？\n",
    "\n",
    "輸入範例: \n",
    "3\n",
    "\n",
    "輸出範例:\n",
    "3個粽子共需要3分45秒"
   ]
  },
  {
   "cell_type": "code",
   "execution_count": null,
   "metadata": {},
   "outputs": [],
   "source": [
    "'''\n",
    "9_5.算術運算子-時間計算(10.0)\n",
    "'''\n",
    "\n",
    "Sticky_Rice_3D=int(input())\n",
    "\n",
    "total_time=Sticky_Rice_3D * 75\n",
    "\n",
    "minutes=total_time // 60\n",
    "seconds=total_time % 60\n",
    "\n",
    "print(f\"{Sticky_Rice_3D}個粽子共需要{minutes}分{seconds}秒\")"
   ]
  },
  {
   "cell_type": "markdown",
   "metadata": {},
   "source": [
    "寫一個程式，輸入攝氏溫度，輸出華氏溫度，\n",
    "\n",
    "華氏溫度轉換公式如下: 華氏溫度=(9/5)*攝氏溫度+32。\n",
    "輸入範例: \n",
    "10\n",
    "\n",
    "輸出範例:\n",
    "華氏溫度為50.0"
   ]
  },
  {
   "cell_type": "code",
   "execution_count": null,
   "metadata": {},
   "outputs": [],
   "source": [
    "'''\n",
    "9_6.算術運算子-溫度換算(10.0)\n",
    "'''\n",
    "celsius=float(input())\n",
    "\n",
    "fahrenheit=(9/5)*celsius+32\n",
    "\n",
    "print(f\"華氏溫度為{fahrenheit:.1f}\")"
   ]
  },
  {
   "cell_type": "markdown",
   "metadata": {},
   "source": [
    "寫一個程式，輸入攝氏溫度，輸出華氏溫度，\n",
    "\n",
    "華氏溫度轉換公式如下: 華氏溫度=(9/5)*攝氏溫度+32。\n",
    "輸入範例: \n",
    "10\n",
    "20\n",
    "30\n",
    "\n",
    "輸出範例:\n",
    "1.華氏溫度為50.0\n",
    "2.華氏溫度為68.0\n",
    "3.華氏溫度為86.0"
   ]
  },
  {
   "cell_type": "code",
   "execution_count": null,
   "metadata": {},
   "outputs": [],
   "source": [
    "'''\n",
    "9_6.算術運算子-溫度換算(10.0)\n",
    "'''\n",
    "def celsius_to_fahrenheit(celsius):\n",
    "    return (9/5)*celsius+32\n",
    "    \n",
    "for i in range(1,4):\n",
    "    celsius=float(input())\n",
    "    fahrenheit=celsius_to_fahrenheit(celsius)\n",
    "    print(f\"{i}.華氏溫度為{fahrenheit:.1f}\")"
   ]
  },
  {
   "cell_type": "markdown",
   "metadata": {},
   "source": [
    "寫一個程式，輸入圓的半徑與扇形角度，計算出此圓的周長、圓面積與扇形面積。\n",
    "\n",
    "圓周率請用常數 3.14。\n",
    "印出結果取到小數第 2 位。\n",
    "此題輸出時請務必使用format指定小數位數，如{0:.2f}\n",
    "輸入範例: \n",
    "6\n",
    "45\n",
    "\n",
    "輸出範例: \n",
    "圓周長為37.68\n",
    "圓面積為113.04\n",
    "扇形面積為14.13"
   ]
  },
  {
   "cell_type": "code",
   "execution_count": null,
   "metadata": {},
   "outputs": [],
   "source": [
    "'''\n",
    "9_8.算術運算子-圓周長與面積(10.0)\n",
    "'''\n",
    "radius = float(input())\n",
    "angle = float(input())\n",
    "pi=3.14\n",
    "\n",
    "circumference = 2 * pi * radius\n",
    "cirure_area =  pi * radius * radius\n",
    "sector_area = (angle/360) * cirure_area\n",
    "\n",
    "print(\"圓周長為{0:.2f}\".format(circumference))\n",
    "print(\"圓面積為{0:.2f}\".format(cirure_area))\n",
    "print(\"扇形面積為{0:.2f}\".format(sector_area))"
   ]
  },
  {
   "cell_type": "markdown",
   "metadata": {},
   "source": [
    "寫一個程式，計算銷售員的薪水，\n",
    "\n",
    "一家大型公司的銷售員，每周的底薪 US200 元，另外還可以從當周的銷售金額抽取 9% 的佣金。\n",
    " 如某位銷售人員在一周之內賣了價值 US5000 元的商品，他可以拿到的薪水是 US200 元加上 US5000 元的 9%，也就是 US650 元。\n",
    " 請發展一個程式輸入銷售員上周的銷售金額，並計算顯示銷售員所賺的金額(處理 3 個銷售人員薪資)。\n",
    "輸入範例: \n",
    "1088.89\n",
    "5000.00\n",
    "1123.56\n",
    "\n",
    "輸出範例: \n",
    "週薪US298.00元\n",
    "週薪US650.00元\n",
    "週薪US301.12元"
   ]
  },
  {
   "cell_type": "code",
   "execution_count": null,
   "metadata": {},
   "outputs": [],
   "source": [
    "'''\n",
    "9_9.算術運算子-彈：薪水(10.0)\n",
    "'''\n",
    "base_salary = 200\n",
    "\n",
    "A=float(input())\n",
    "B=float(input())\n",
    "C=float(input())\n",
    "\n",
    "def reward(sales):\n",
    "    commission = sales*0.09\n",
    "    total_salary = base_salary + commission\n",
    "    # 將結果四捨五入到小數點後兩位\n",
    "    # return round(total_salary, 2)  \n",
    "    return total_salary\n",
    "    \n",
    "print(f\"週薪US{reward(A):.2f}元\")\n",
    "print(f\"週薪US{reward(B):.2f}元\")\n",
    "print(f\"週薪US{reward(C):.2f}元\")\n",
    "\n",
    "\n",
    "# 1088.89\n",
    "# 5000.00\n",
    "# 1123.56\n",
    "\n"
   ]
  },
  {
   "cell_type": "markdown",
   "metadata": {},
   "source": [
    "寫一個程式，計算年利率，\n",
    "\n",
    "年利率公式-->利息=本金*利率*天數/365\n",
    "請利用上述公式寫出一個程式，輸入\n",
    "本金（小數） 利率（小數） 天數（整數）\n",
    "輸出\n",
    "計算出所獲得的利息，輸出時取到小數點後第2位\n",
    "可重複計算兩次 \n",
    "輸入範例:\n",
    "1000.00 0.1 365\n",
    "10000.00 0.09 1460\n",
    "\n",
    "輸出範例:\n",
    "100.00\n",
    "3600.00"
   ]
  },
  {
   "cell_type": "code",
   "execution_count": null,
   "metadata": {},
   "outputs": [],
   "source": [
    "'''\n",
    "9_10.算術運算子-彈：年利率(5.0)\n",
    "'''\n",
    "\n",
    "\n",
    "def year_benifit(base,interest_rate,days):\n",
    "    benifit = base * interest_rate * days/365\n",
    "    return round(benifit,2)\n",
    "\n",
    "for i in range(2):\n",
    "    base,interest_rate,days = input().split()\n",
    "    base = float(base)\n",
    "    interest_rate = float(interest_rate)\n",
    "    days =int(days)\n",
    "    benifit = year_benifit(base,interest_rate,days)\n",
    "    \n",
    "    print(f\"{benifit:.2f}\")\n",
    "\n",
    "# 1000.00 0.1 365\n",
    "# 10000.00 0.09 1460"
   ]
  },
  {
   "cell_type": "markdown",
   "metadata": {},
   "source": [
    "寫一個程式，輸入一個字串包含8個小寫字元，請印出此字串的大寫字元。\n",
    "\n",
    "輸入範例:\n",
    "iloveyou\n",
    "\n",
    "輸出範例:\n",
    "ILOVEYOU"
   ]
  },
  {
   "cell_type": "code",
   "execution_count": null,
   "metadata": {},
   "outputs": [],
   "source": [
    "'''\n",
    "9_11.算術運算子-自主學習(5.0)\n",
    "'''\n",
    "my_str =input()\n",
    "upper_str = my_str.upper()\n",
    "print(upper_str)"
   ]
  }
 ],
 "metadata": {
  "kernelspec": {
   "display_name": "Python 3",
   "language": "python",
   "name": "python3"
  },
  "language_info": {
   "name": "python",
   "version": "3.12.1"
  }
 },
 "nbformat": 4,
 "nbformat_minor": 2
}
