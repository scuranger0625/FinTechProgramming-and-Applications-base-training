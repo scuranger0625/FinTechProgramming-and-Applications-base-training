{
 "cells": [
  {
   "cell_type": "markdown",
   "metadata": {},
   "source": [
    "寫一個程式，輸入一個考試分數，先不考慮不合理數據，\n",
    "\n",
    "如果大於等於60分，則印出此數及格；其餘狀況不顯示任何資訊。\n",
    "\n",
    "請重複執行2次。\n",
    "\n",
    "輸入範例: \n",
    "78\n",
    "-88\n",
    "\n",
    "輸出範例: \n",
    "78分及格\n",
    "(不顯示任何資訊，然後結束)\n",
    "\n",
    "範例程式：\n",
    "score = int(input())\n",
    "if score 比較運算子 0:\n",
    "      print(\"{0}分及格\".format(score))"
   ]
  },
  {
   "cell_type": "code",
   "execution_count": null,
   "metadata": {},
   "outputs": [],
   "source": [
    "'''\n",
    "11_1.判斷式-if-及格(10.0)\n",
    "'''\n",
    "for i in range(2):\n",
    "    score = int(input())\n",
    "    \n",
    "    if score >= 60:\n",
    "        print(\"{0}分及格\".format(score))"
   ]
  },
  {
   "cell_type": "markdown",
   "metadata": {},
   "source": [
    "寫一個程式，輸入一個整數；\n",
    "\n",
    "如果是偶數，則印出此數是偶數；\n",
    "其餘狀況則跳過不做判斷\n",
    "請重複執行2次。\n",
    "\n",
    "輸入範例: \n",
    "77\n",
    "78\n",
    "\n",
    "輸出範例:\n",
    "78是偶數"
   ]
  },
  {
   "cell_type": "code",
   "execution_count": null,
   "metadata": {},
   "outputs": [],
   "source": [
    "'''\n",
    "11_2.判斷式-if-選偶數(10.0)\n",
    "'''\n",
    "\n",
    "for i in range(2):\n",
    "    score = int(input())\n",
    "    #判斷偶數\n",
    "    if score % 2 == 0:\n",
    "        print(\"{0}是偶數\".format(score))"
   ]
  },
  {
   "cell_type": "markdown",
   "metadata": {},
   "source": [
    "寫一個程式，輸入 2 個整數；\n",
    "\n",
    "如果兩數之間不相等，則印出兩數不相等的運算式，其餘狀況不做判斷。\n",
    "\n",
    "請重複執行2次。\n",
    "\n",
    "輸入範例: \n",
    "2\n",
    "9\n",
    "9\n",
    "9\n",
    "\n",
    "輸出範例:\n",
    "2!=9"
   ]
  },
  {
   "cell_type": "code",
   "execution_count": null,
   "metadata": {},
   "outputs": [],
   "source": [
    "'''\n",
    "11_3.判斷式-if-發現不相等(10.0)\n",
    "'''\n",
    "\n",
    "for i in range(2):\n",
    "    score1 = int(input())\n",
    "    score2 = int(input())\n",
    "    \n",
    "    if score1 != score2:\n",
    "        print(\"{0}!={1}\".format(score1,score2))\n",
    "\n",
    "    "
   ]
  },
  {
   "cell_type": "markdown",
   "metadata": {},
   "source": [
    "輸入一個整數，輸出這個整數的絕對值，程式可執行兩次。\n",
    "\n",
    "輸入範例:\n",
    "-3\n",
    "2\n",
    "\n",
    "輸出範例:\n",
    "3\n",
    "2\n",
    "\n"
   ]
  },
  {
   "cell_type": "code",
   "execution_count": null,
   "metadata": {},
   "outputs": [],
   "source": [
    "'''\n",
    "11_4.判斷式-if-輸出絕對值(15.0)\n",
    "'''\n",
    "for i in range(2):\n",
    "    score = int(input())\n",
    "    print(abs(score))\n",
    "    \n",
    "    "
   ]
  },
  {
   "cell_type": "markdown",
   "metadata": {},
   "source": [
    "寫一個程式，輸入一個整數，如果是正數，則印出兩行：\n",
    "第一行：此數是正數\n",
    "第二行：正數區塊\n",
    "\n",
    "輸入範例: \n",
    "78\n",
    "\n",
    "輸出範例: \n",
    "78是正數\n",
    "正數區塊"
   ]
  },
  {
   "cell_type": "code",
   "execution_count": null,
   "metadata": {},
   "outputs": [],
   "source": [
    "'''\n",
    "11_5.判斷式-if-正數區塊(15.0)\n",
    "'''\n",
    "\n",
    "score = int(input())\n",
    "\n",
    "if score >= 0 :\n",
    "    print(\"{0}是正數\".format(score))\n",
    "    print(\"正數區塊\")"
   ]
  },
  {
   "cell_type": "markdown",
   "metadata": {},
   "source": [
    "寫一個程式，輸入遊客年齡，印出需要買門票的年齡，其餘不做判斷。\n",
    "\n",
    "12歲以下兒童免門票\n",
    "65歲以上老人免門票\n",
    "如果需要購票，請印出如輸出範例的資料。\n",
    "\n",
    "輸入範例: \n",
    "60\n",
    "\n",
    "輸出範例:\n",
    "60歲要門票"
   ]
  },
  {
   "cell_type": "code",
   "execution_count": null,
   "metadata": {},
   "outputs": [],
   "source": [
    "'''\n",
    "11_6.判斷式-if-門票問題(20.0)\n",
    "'''\n",
    "age = int(input())\n",
    "\n",
    "if age >= 12 and age <=65:\n",
    "    print(\"{0}歲要門票\".format(age))"
   ]
  },
  {
   "cell_type": "markdown",
   "metadata": {},
   "source": [
    "寫一個程式，輸入今天是星期幾，印出上學日，其餘不做判斷。\n",
    "\n",
    "星期一到星期五要上課\n",
    "此程式可以執行2次。\n",
    "輸入範例: \n",
    "4\n",
    "6\n",
    "\n",
    "輸出範例: \n",
    "4要上課"
   ]
  },
  {
   "cell_type": "code",
   "execution_count": null,
   "metadata": {},
   "outputs": [],
   "source": [
    "'''\n",
    "11_7.判斷式-if-今天要上課(20.0)\n",
    "'''\n",
    "\n",
    "for i in range(2):\n",
    "    week = int(input())\n",
    "    #判斷\n",
    "    if week in range(5):\n",
    "        print(\"{0}要上課\".format(week))"
   ]
  },
  {
   "cell_type": "markdown",
   "metadata": {},
   "source": [
    "請發展一個程式，判斷某位百貨公司的顧客，是否已經超出其信用帳戶所設定的信用額度。 每一位顧客的下列資訊：\n",
    "\n",
    "帳號(1 到 10000)\n",
    "月初時尚未付清的餘款\n",
    "此客戶在本月簽帳的款項\n",
    "此客戶在本月已付的款項\n",
    "允許的信用額度 此程式應輸入上列的每一項資訊，\n",
    "計算出新的未付清餘款(月初餘額+簽帳款項-已付款項)，並判斷新的餘額是否超出此顧客的信用額度。\n",
    "\n",
    "若超過信用額度的顧客 程式應顯示其帳號，信用額度，新的餘額及印出超出信用額度， 若未超過信用額度的顧客，程式應顯示其帳號，信用額度，新的餘額，最後結果請以小數點後2位呈現。\n",
    "\n",
    "輸入範例: \n",
    "100\n",
    "5394.78\n",
    "1000.00\n",
    "500.00\n",
    "5500.00\n",
    "\n",
    "輸出範例:\n",
    "帳號: 100\n",
    "信用額度: 5500.00\n",
    "新的餘額: 5894.78\n",
    "超出信用額度\n",
    "\n",
    "注意事項：冒號試半形符號，後面有一個空格"
   ]
  },
  {
   "cell_type": "code",
   "execution_count": null,
   "metadata": {},
   "outputs": [],
   "source": [
    "'''\n",
    "11_8.判斷式-if-自主學習(5.0)\n",
    "'''\n",
    "account_number = int(input())\n",
    "beginning_balance = float(input())\n",
    "charges = float(input())\n",
    "payments = float(input())\n",
    "credit_limit = float(input())\n",
    "\n",
    "new_balance = beginning_balance + charges - payments\n",
    "\n",
    "print(\"帳號: {0}\".format(account_number))\n",
    "print(\"信用額度: {0:.2f}\".format(credit_limit))\n",
    "print(\"新的餘額: {0:.2f}\".format(new_balance))\n",
    "\n",
    "if new_balance > credit_limit:\n",
    "    print(\"超出信用額度\")\n",
    "    \n",
    "# 100\n",
    "# 5394.78\n",
    "# 1000.00\n",
    "# 500.00\n",
    "# 5500.00\n",
    "\n"
   ]
  }
 ],
 "metadata": {
  "kernelspec": {
   "display_name": "Python 3",
   "language": "python",
   "name": "python3"
  },
  "language_info": {
   "name": "python",
   "version": "3.12.1"
  }
 },
 "nbformat": 4,
 "nbformat_minor": 2
}
