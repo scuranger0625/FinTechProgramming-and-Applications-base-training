{
 "cells": [
  {
   "cell_type": "markdown",
   "metadata": {},
   "source": [
    "寫一個程式，印出Hello, World!\n",
    "輸出的功能的指令是print;\n",
    "只要在print(\"  \")雙引號內貼上Hello, World!就可以。\n",
    "\n",
    "輸出範例:\n",
    "Hello, World!\n",
    "\n",
    "程示範例：\n",
    "print(\"Hello, World!\")"
   ]
  },
  {
   "cell_type": "code",
   "execution_count": 1,
   "metadata": {},
   "outputs": [
    {
     "name": "stdout",
     "output_type": "stream",
     "text": [
      "Hello, World!\n"
     ]
    }
   ],
   "source": [
    "print(\"Hello, World!\")"
   ]
  },
  {
   "cell_type": "markdown",
   "metadata": {},
   "source": [
    "寫一個程式，印出如輸出範例的結果：\n",
    "繼續使用print的指令，只是需要執行6次，然後印出六行不同數量的星星。\n",
    "\n",
    "輸出範例:\n",
    "*\n",
    "**\n",
    "***\n",
    "****\n",
    "*****\n",
    "******\n",
    "\n",
    "程示範例：\n",
    "print(\"*\")\n",
    "print(\"**\")"
   ]
  },
  {
   "cell_type": "code",
   "execution_count": 2,
   "metadata": {},
   "outputs": [
    {
     "name": "stdout",
     "output_type": "stream",
     "text": [
      "*\n",
      "**\n",
      "***\n",
      "****\n",
      "*****\n",
      "******\n"
     ]
    }
   ],
   "source": [
    "'''\n",
    "2_2.輸出語句-印三角形(20.0)\n",
    "'''\n",
    "print(\"*\")\n",
    "print(\"**\")\n",
    "print(\"***\")\n",
    "print(\"****\")\n",
    "print(\"*****\")\n",
    "print(\"******\")"
   ]
  },
  {
   "cell_type": "markdown",
   "metadata": {},
   "source": [
    "寫一個 程式，印出如輸出範例的結果：\n",
    "註：只需印出輸出範例，不用考慮運算對錯\n",
    "\n",
    "輸出範例:\n",
    "2-3=5"
   ]
  },
  {
   "cell_type": "code",
   "execution_count": 3,
   "metadata": {},
   "outputs": [
    {
     "name": "stdout",
     "output_type": "stream",
     "text": [
      "2-3=5\n"
     ]
    }
   ],
   "source": [
    "'''\n",
    "2_3.輸出語句-不是計算(20.0)\n",
    "'''\n",
    "print(\"2-3=5\")"
   ]
  },
  {
   "cell_type": "markdown",
   "metadata": {},
   "source": [
    "寫一個程式，印出如下的結果:\n",
    "\n",
    "輸出範例:\n",
    "1 1 1\n",
    "2 4 8\n",
    "3 9 27\n",
    "4 16 64\n",
    "5 25 125\n",
    "6 36 216\n",
    "7 49 343\n",
    "8 64 512\n",
    "9 81 729\n",
    "10 100 1000"
   ]
  },
  {
   "cell_type": "code",
   "execution_count": 4,
   "metadata": {},
   "outputs": [
    {
     "name": "stdout",
     "output_type": "stream",
     "text": [
      "1 1 1\n",
      "2 4 8\n",
      "3 9 27\n",
      "4 16 64\n",
      "5 25 125\n",
      "6 36 216\n",
      "7 49 343\n",
      "8 64 512\n",
      "9 81 729\n",
      "10 100 1000\n"
     ]
    }
   ],
   "source": [
    "'''\n",
    "2_4.輸出語句-多列資料(20.0)\n",
    "'''\n",
    "\n",
    "#自定義函數平方\n",
    "def square(x):\n",
    "    return x ** 2\n",
    "#自定義函數三次方\n",
    "def cube(x):\n",
    "    return x ** 3\n",
    "\n",
    "#迭代範圍(1-10)的範圍內\n",
    "for i in range(1,11):\n",
    "    j = square(i)\n",
    "    k = cube(i)\n",
    "    print(i,j,k)"
   ]
  },
  {
   "cell_type": "markdown",
   "metadata": {},
   "source": [
    "小明的代號A，身高158CM，體重55.66公斤，\n",
    "請寫一個程式 ，印出小明的身高與體重資訊。\n",
    "\n",
    "輸出範例:\n",
    "Height: 158CM\n",
    "Weight: 55.66KG\n",
    "\n",
    "輸出樣式說明：\n",
    "冒號是英文半形\n",
    "冒號後面有一個空格\n",
    "\n"
   ]
  },
  {
   "cell_type": "code",
   "execution_count": 5,
   "metadata": {},
   "outputs": [
    {
     "name": "stdout",
     "output_type": "stream",
     "text": [
      "Height: 158CM\n",
      "Weight: 55.66KG\n"
     ]
    }
   ],
   "source": [
    "'''\n",
    "2_5.輸出語句-身高體重(20.0)\n",
    "'''\n",
    "#通常登記一個人的資料不會只用print出來吧\n",
    "\n",
    "class Person: #別忘記類別命名第一個字要用大寫阿= =\n",
    "    def __init__(self,height,weight):\n",
    "        self.height = height #屬性要使用小寫\n",
    "        self.weight = weight\n",
    "    \n",
    "    def display_info(self):\n",
    "        print(f\"Height: {self.height}CM\")\n",
    "        print(f\"Weight: {self.weight}KG\")\n",
    "        \n",
    "A = Person(158,55.66)\n",
    "A.display_info()\n",
    "    \n",
    "    "
   ]
  },
  {
   "cell_type": "markdown",
   "metadata": {},
   "source": [
    "小明的代號A，身高158CM，體重55.66公斤，\n",
    "請寫一個程式 ，印出小明的身高與體重資訊。\n",
    "本題主要練習換行指令。\n",
    "\n",
    "輸出範例:\n",
    "Height: 158CMWeight: 55.66KG\n",
    "\n",
    "輸出樣式說明：\n",
    "冒號是英文半形\n",
    "冒號後面有一個空格\n",
    "\n",
    "範例程式：\n",
    "print('Height: 158CM',end='')#兩個單引號或者是兩個雙引號\n",
    "print('Weight: 55.66KG')\n",
    "\n",
    "或\n",
    "\n",
    "print(\"Height: 158CM\",end=\"\")#兩個單引號或者是兩個雙引號\n",
    "print(\"Weight: 55.66KG\")"
   ]
  },
  {
   "cell_type": "code",
   "execution_count": 6,
   "metadata": {},
   "outputs": [
    {
     "name": "stdout",
     "output_type": "stream",
     "text": [
      "Height: 158CMWeight: 55.66KG\n"
     ]
    }
   ],
   "source": [
    "'''\n",
    "2_6.輸出語句-彈：不換行(5.0)\n",
    "'''\n",
    "class Person: #別忘記類別命名第一個字要用大寫阿= =\n",
    "    def __init__(self,height,weight):\n",
    "        self.height = height #屬性要使用小寫\n",
    "        self.weight = weight\n",
    "    \n",
    "    def display_info(self):\n",
    "        print(f\"Height: {self.height}CM\",end = \"\")\n",
    "        print(f\"Weight: {self.weight}KG\")\n",
    "        \n",
    "A = Person(158,55.66)\n",
    "A.display_info()"
   ]
  },
  {
   "cell_type": "markdown",
   "metadata": {},
   "source": [
    "小明的代號A，身高158CM，體重55.66公斤，\n",
    "請寫一個程式 ，印出小明的身高與體重資訊。\n",
    "本題主要練習換行指令與兩段資訊有空格的寫法。\n",
    "\n",
    "輸出範例:\n",
    "Height: 158CM Weight: 55.66KG\n",
    "\n",
    "輸出樣式說明：\n",
    "冒號是英文半形\n",
    "冒號後面有一個空格"
   ]
  },
  {
   "cell_type": "code",
   "execution_count": 7,
   "metadata": {},
   "outputs": [
    {
     "name": "stdout",
     "output_type": "stream",
     "text": [
      "Height: 158CM Weight: 55.66KG\n"
     ]
    }
   ],
   "source": [
    "'''\n",
    "2_7.輸出語句-彈：中間有空格(5.0)\n",
    "'''\n",
    "class Person: #別忘記類別命名第一個字要用大寫阿= =\n",
    "    def __init__(self,height,weight):\n",
    "        self.height = height #屬性要使用小寫\n",
    "        self.weight = weight\n",
    "    \n",
    "    def display_info(self):\n",
    "        print(f\"Height: {self.height}CM\",end = \" \")\n",
    "        print(f\"Weight: {self.weight}KG\")\n",
    "        \n",
    "A = Person(158,55.66)\n",
    "A.display_info()"
   ]
  }
 ],
 "metadata": {
  "kernelspec": {
   "display_name": "Python 3",
   "language": "python",
   "name": "python3"
  },
  "language_info": {
   "codemirror_mode": {
    "name": "ipython",
    "version": 3
   },
   "file_extension": ".py",
   "mimetype": "text/x-python",
   "name": "python",
   "nbconvert_exporter": "python",
   "pygments_lexer": "ipython3",
   "version": "3.12.1"
  }
 },
 "nbformat": 4,
 "nbformat_minor": 2
}
