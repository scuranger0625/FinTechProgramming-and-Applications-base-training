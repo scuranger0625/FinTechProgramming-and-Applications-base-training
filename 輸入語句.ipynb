{
 "cells": [
  {
   "cell_type": "markdown",
   "metadata": {},
   "source": [
    "寫一個程式，讓使用者從輸入設備輸入一筆資料，然後印出輸入的整數。\n",
    "\n",
    "輸入範例:\n",
    "5\n",
    "\n",
    "輸出範例:\n",
    "5\n",
    "\n",
    "範例程式：\n",
    "num = input()\n",
    "print(num)"
   ]
  },
  {
   "cell_type": "code",
   "execution_count": null,
   "metadata": {},
   "outputs": [],
   "source": [
    "'''\n",
    "6_1.輸入語句-輸入1筆資料(20.0)\n",
    "'''\n",
    "num1=input()\n",
    "print(num1)"
   ]
  },
  {
   "cell_type": "markdown",
   "metadata": {},
   "source": [
    "寫一個程式，讓使用者輸入兩筆資料，並輸出如輸出範例的資料。\n",
    "\n",
    "輸入範例:\n",
    "5\n",
    "6.3\n",
    "\n",
    "輸出範例:\n",
    "5\n",
    "6.3\n",
    "\n"
   ]
  },
  {
   "cell_type": "code",
   "execution_count": null,
   "metadata": {},
   "outputs": [],
   "source": [
    "'''\n",
    "6_2.輸入語句-輸入2筆資料(20.0)\n",
    "'''\n",
    "num1=input()\n",
    "num2=input()\n",
    "\n",
    "print(num1)\n",
    "print(num2)"
   ]
  },
  {
   "cell_type": "markdown",
   "metadata": {},
   "source": [
    "寫一個程式，讓使用者輸入兩筆資料，並依序輸出。\n",
    "\n",
    "輸入範例:\n",
    "5 \n",
    "6\n",
    "\n",
    "輸出範例:\n",
    "5 6"
   ]
  },
  {
   "cell_type": "code",
   "execution_count": null,
   "metadata": {},
   "outputs": [],
   "source": [
    "'''\n",
    "6_3.輸入語句-正序(20.0)\n",
    "'''\n",
    "numbers=[]\n",
    "\n",
    "num1=int(input())\n",
    "num2=int(input())\n",
    "\n",
    "numbers.append(num1)\n",
    "numbers.append(num2)\n",
    "\n",
    "\n",
    "print(numbers[0],numbers[1])\n",
    "\n",
    "\n",
    "\n"
   ]
  },
  {
   "cell_type": "markdown",
   "metadata": {},
   "source": [
    "寫一個程式，讓使用者輸入兩個整數，並倒序輸出。\n",
    "\n",
    "輸入範例: \n",
    "94\n",
    "37\n",
    "\n",
    "輸出範例: \n",
    "37\n",
    "94"
   ]
  },
  {
   "cell_type": "code",
   "execution_count": null,
   "metadata": {},
   "outputs": [],
   "source": [
    "'''\n",
    "6_4.輸入語句-倒序(20.0)\n",
    "'''\n",
    "numbers=[]\n",
    "\n",
    "num1=int(input())\n",
    "num2=int(input())\n",
    "\n",
    "numbers.append(num1)\n",
    "numbers.append(num2)\n",
    "\n",
    "print(numbers[1])\n",
    "print(numbers[0])"
   ]
  },
  {
   "cell_type": "markdown",
   "metadata": {},
   "source": [
    "寫一個程式，讓使用者輸入長方形的長與寬，然後印出邊長的4筆資料。\n",
    "\n",
    "輸入範例: \n",
    "5\n",
    "2\n",
    "\n",
    "輸出範例: \n",
    "5 2 5 2"
   ]
  },
  {
   "cell_type": "code",
   "execution_count": null,
   "metadata": {},
   "outputs": [],
   "source": [
    "'''\n",
    "6_5.輸入語句-長方形(10.0)\n",
    "'''\n",
    "def print_rectangle_sides():\n",
    "    length=int(input())\n",
    "    width=int(input())\n",
    "    \n",
    "    print(length,width,length,width)\n",
    "\n",
    "print_rectangle_sides()"
   ]
  },
  {
   "cell_type": "markdown",
   "metadata": {},
   "source": [
    "寫一個程式，輸入 3 筆如下類型的資料，然後印出。\n",
    "\n",
    "輸入範例: \n",
    "2000.222\n",
    "20.336\n",
    "1.222222\n",
    "\n",
    "輸出範例: \n",
    "2000.222\n",
    "20.336\n",
    "1.222222"
   ]
  },
  {
   "cell_type": "code",
   "execution_count": null,
   "metadata": {},
   "outputs": [],
   "source": [
    "'''\n",
    "6_6.輸入語句-浮點數輸出入(10.0)\n",
    "'''\n",
    "def print_cubes():\n",
    "    cube1=float(input())\n",
    "    cube2=float(input())\n",
    "    cube3=float(input())\n",
    "    \n",
    "    print(cube1)\n",
    "    print(cube2)\n",
    "    print(cube3)\n",
    "\n",
    "#呼叫函式\n",
    "print_cubes()\n",
    "\n",
    "# 2000.222\n",
    "# 20.336\n",
    "# 1.222222"
   ]
  },
  {
   "cell_type": "markdown",
   "metadata": {},
   "source": [
    "寫一個程式，輸入如輸入範例資料，然後印出來。\n",
    "\n",
    "輸入範例: \n",
    "18\n",
    "18.18\n",
    "Happy\n",
    "\n",
    "輸出範例: \n",
    "18\n",
    "18.18\n",
    "Happy"
   ]
  },
  {
   "cell_type": "code",
   "execution_count": null,
   "metadata": {},
   "outputs": [],
   "source": [
    "'''\n",
    "6_7.輸入語句-字串(5.0)\n",
    "'''\n",
    "def print_cubes():\n",
    "    cube1=int(input())\n",
    "    cube2=float(input())\n",
    "    # 其實應該是不需要宣告str啦 但我總覺得可以保險一點\n",
    "    cube3=str(input())\n",
    "    \n",
    "    print(cube1)\n",
    "    print(cube2)\n",
    "    print(cube3)\n",
    "\n",
    "#呼叫函式\n",
    "print_cubes()\n",
    "\n",
    "#18\n",
    "#18.18\n",
    "#Happy"
   ]
  },
  {
   "cell_type": "markdown",
   "metadata": {},
   "source": [
    "當輸入資料時，所有的型態會被判定為字串(string)型態，\n",
    "如果要取得整數或者浮點數型態，則必須轉型；請輸入二筆資料，然後分別轉型為整數與浮點數，印出資料與其型態，\n",
    "\n",
    "輸入範例: \n",
    "18\n",
    "18.18\n",
    "\n",
    "輸出範例: \n",
    "18\n",
    "18.18\n",
    "<class 'int'>\n",
    "<class 'float'>\n",
    "\n",
    "程示範例：\n",
    "num1 = int(input())\n",
    "num2 = float(input())\n",
    "print(num1)\n",
    "print(num2)\n",
    "print(type(num1))\n",
    "print(type(num2))"
   ]
  },
  {
   "cell_type": "code",
   "execution_count": null,
   "metadata": {},
   "outputs": [],
   "source": [
    "'''\n",
    "6_8.輸入語句-轉型(5.0)\n",
    "'''\n",
    "def print_cubes():\n",
    "    cube1=int(input())\n",
    "    cube2=float(input())\n",
    "\n",
    "    \n",
    "    print(cube1)\n",
    "    print(cube2)\n",
    "    print(type(cube1))\n",
    "    print(type(cube2))\n",
    "\n",
    "# 呼叫函式\n",
    "print_cubes()\n"
   ]
  },
  {
   "cell_type": "markdown",
   "metadata": {},
   "source": [
    "寫一個程式，輸入長方形的長與寬，然後印出其 4 邊長。\n",
    "請注意本題的輸入型態與上題不同，可用split函數。\n",
    "\n",
    "輸入範例: \n",
    "\n",
    "15 22\n",
    "\n",
    "輸出範例: \n",
    "\n",
    "15 22 15 22\n",
    "\n",
    " \n",
    "\n",
    "範例程式：\n",
    "\n",
    "num = input()\n",
    "length = int(num.split(\" \")[0])\n",
    "width = int(num.split(\" \")[1])"
   ]
  },
  {
   "cell_type": "code",
   "execution_count": null,
   "metadata": {},
   "outputs": [],
   "source": [
    "'''\n",
    "6_9.輸入語句-彈：再玩長方形(5.0)\n",
    "'''\n",
    "\n",
    "num=input()\n",
    "length=int(num.split(\" \")[0])\n",
    "width=int(num.split(\" \")[1])\n",
    "    \n",
    "print(length,width,length,width)\n",
    "\n"
   ]
  },
  {
   "cell_type": "markdown",
   "metadata": {},
   "source": [
    "寫一個程式，輸入一個含有8個字元的字串，印出其字元碼減3之後的結果。\n",
    "\n",
    "輸入範例:\n",
    "\n",
    "LORYH\\RX\n",
    "\n",
    "輸出範例:\n",
    "\n",
    "ILOVEYOU"
   ]
  },
  {
   "cell_type": "code",
   "execution_count": null,
   "metadata": {},
   "outputs": [],
   "source": [
    "'''\n",
    "6_10.輸入語句-自主學習(5.0)\n",
    "'''\n",
    "input_str=input()\n",
    "\n",
    "output_str=\"\"\n",
    "\n",
    "for char in input_str:\n",
    "    output_str+=chr(ord(char)-3)\n",
    "\n",
    "print(output_str)\n",
    "\n",
    "#LORYH\\RX\n",
    "#ILOVEYOU"
   ]
  }
 ],
 "metadata": {
  "kernelspec": {
   "display_name": "Python 3",
   "language": "python",
   "name": "python3"
  },
  "language_info": {
   "codemirror_mode": {
    "name": "ipython",
    "version": 3
   },
   "file_extension": ".py",
   "mimetype": "text/x-python",
   "name": "python",
   "nbconvert_exporter": "python",
   "pygments_lexer": "ipython3",
   "version": "3.12.1"
  }
 },
 "nbformat": 4,
 "nbformat_minor": 2
}
