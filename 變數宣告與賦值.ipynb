{
 "cells": [
  {
   "cell_type": "markdown",
   "metadata": {},
   "source": [
    "寫一個程式，宣告一個變數，用來儲存變數值，設定它的變數值為3，然後印出來。\n",
    "\n",
    "輸入範例:\n",
    "\n",
    "輸出範例:\n",
    "3\n",
    "\n",
    "程式碼範例：\n",
    "temp = 一個指定整數\n",
    "print(打上變數名稱，即可印出指定的整數)"
   ]
  },
  {
   "cell_type": "code",
   "execution_count": 1,
   "metadata": {},
   "outputs": [
    {
     "name": "stdout",
     "output_type": "stream",
     "text": [
      "3\n"
     ]
    }
   ],
   "source": [
    "'''\n",
    "3_1.變數宣告與賦值-溫度變數(10.0)\n",
    "'''\n",
    "temp=3\n",
    "\n",
    "print(temp)"
   ]
  },
  {
   "cell_type": "markdown",
   "metadata": {},
   "source": [
    "寫一個程式，宣告一個整數變數，變數名稱為a。\n",
    "然後，先指定a為1，然後指定為2，再指定為3，再指定為4，再指定為5，印出變數a最後的值。\n",
    "範例如下：\n",
    "a=1\n",
    "a=2\n",
    "a=3\n",
    "a=4\n",
    "a=5\n",
    "\n",
    "輸入範例:\n",
    "\n",
    "輸出範例:\n",
    "5"
   ]
  },
  {
   "cell_type": "code",
   "execution_count": 2,
   "metadata": {},
   "outputs": [
    {
     "name": "stdout",
     "output_type": "stream",
     "text": [
      "5\n"
     ]
    }
   ],
   "source": [
    "'''\n",
    "3_2.變數宣告與賦值-最後來的是主人(10.0)\n",
    "'''\n",
    "a=1\n",
    "a=2\n",
    "a=3\n",
    "a=4\n",
    "a=5\n",
    "\n",
    "print(a)\n"
   ]
  },
  {
   "cell_type": "markdown",
   "metadata": {},
   "source": [
    "寫一個程式，分別設定三個變數，分別指定其三個變數的值為10、20與30，然後印出第一個與第二個變數的值，其結果如輸出範例。\n",
    "\n",
    "輸入範例:\n",
    "\n",
    "\n",
    "輸出範例:\n",
    "10 20\n",
    "\n",
    "程式碼範例：\n",
    "變數名稱1 =整數1\n",
    "變數名稱2 =整數2\n",
    "print(變數名稱1, 變數名稱2)"
   ]
  },
  {
   "cell_type": "code",
   "execution_count": 3,
   "metadata": {},
   "outputs": [
    {
     "name": "stdout",
     "output_type": "stream",
     "text": [
      "10 20\n"
     ]
    }
   ],
   "source": [
    "'''\n",
    "3_3.變數宣告與賦值-印出2個指定整數(10.0)\n",
    "'''\n",
    "a=10\n",
    "b=20\n",
    "c=30\n",
    "\n",
    "print(a,b)"
   ]
  },
  {
   "cell_type": "markdown",
   "metadata": {},
   "source": [
    "寫一個程式，指定一個變數為3，並加上一些其他的詞，如輸出範例。\n",
    "\n",
    "輸入範例：\n",
    "\n",
    "輸出範例：\n",
    "There are 3 cats.\n",
    "\n",
    "範例程式：\n",
    "cats = 3\n",
    "print(\"There are {0} cats.\".format(cats))#表示第0個變數是cats"
   ]
  },
  {
   "cell_type": "code",
   "execution_count": 5,
   "metadata": {},
   "outputs": [
    {
     "name": "stdout",
     "output_type": "stream",
     "text": [
      "There are 3 cats.\n"
     ]
    }
   ],
   "source": [
    "'''\n",
    "3_4.變數宣告與賦值-加上形容詞-1(10.0)\n",
    "'''\n",
    "num=3\n",
    "\n",
    "# %s 是一種格式化字符串的語法，用於將特定的數據插入到字符串中。\n",
    "print(\"There are %s cats.\" % num)"
   ]
  },
  {
   "cell_type": "markdown",
   "metadata": {},
   "source": [
    "寫一個程式，指定2個變數分別為3與4，然後使用指定的2個變數印出如輸出範例的結果。\n",
    "\n",
    "輸入範例:\n",
    "\n",
    "輸出範例:\n",
    "There are 3 cats and 4 dogs."
   ]
  },
  {
   "cell_type": "code",
   "execution_count": 6,
   "metadata": {},
   "outputs": [
    {
     "name": "stdout",
     "output_type": "stream",
     "text": [
      "There are 3 cats and 4 dogs.\n"
     ]
    }
   ],
   "source": [
    "'''\n",
    "3_5.變數宣告與賦值-加上形容詞-2(10.0)\n",
    "'''\n",
    "num1=3\n",
    "num2=4\n",
    "\n",
    "# %s 是一種格式化字符串的語法，用於將特定的數據插入到字符串中。\n",
    "print(\"There are %s cats and %s dogs.\" % (num1,num2))\n",
    "\n",
    "\n"
   ]
  },
  {
   "cell_type": "markdown",
   "metadata": {},
   "source": [
    "寫一個程式，設定一個變數，用來儲存溫度，設病變數為33.33，然後印出來。\n",
    "\n",
    "輸入範例:\n",
    "\n",
    "輸出範例:\n",
    "33.33\n",
    "\n",
    "程式碼範例：\n",
    "temp = 一個指定整數\n",
    "print(打上變數名稱，即可印出指定的整數)"
   ]
  },
  {
   "cell_type": "code",
   "execution_count": 7,
   "metadata": {},
   "outputs": [
    {
     "name": "stdout",
     "output_type": "stream",
     "text": [
      "33.33\n"
     ]
    }
   ],
   "source": [
    "'''\n",
    "3_6.變數宣告與賦值-浮點數溫度變數(10.0)\n",
    "'''\n",
    "temp = 33.33\n",
    "\n",
    "print(temp)"
   ]
  },
  {
   "cell_type": "markdown",
   "metadata": {},
   "source": [
    "寫一個程式，設定兩個變數，分別為3.33與4.4444，然後印出如輸出範例的結果。\n",
    "\n",
    "輸入範例:\n",
    "\n",
    "輸出範例:\n",
    "3.333\n",
    "4.4444\n",
    "\n",
    "程式碼範例：\n",
    "變數名稱1 =整數1\n",
    "變數名稱2 =整數2\n",
    "print(變數名稱1)\n",
    "print(變數名稱2)"
   ]
  },
  {
   "cell_type": "code",
   "execution_count": 8,
   "metadata": {},
   "outputs": [
    {
     "name": "stdout",
     "output_type": "stream",
     "text": [
      "3.333\n",
      "4.4444\n"
     ]
    }
   ],
   "source": [
    "'''\n",
    "3_7.變數宣告與賦值-印出2個指定浮點數(10.0)\n",
    "'''\n",
    "floatA=3.333\n",
    "floatB=4.4444\n",
    "\n",
    "print(floatA)\n",
    "print(floatB)"
   ]
  },
  {
   "cell_type": "markdown",
   "metadata": {},
   "source": [
    "寫一個程式，指定3個浮點數變數，分別是11.1, 22.22, 33.333\n",
    "使用序號排列與format來解決輸出的問題。\n",
    "\n",
    "輸入範例：\n",
    "\n",
    "輸出範例：\n",
    "11.1 22.22 33.333\n",
    "\n",
    "程式碼範例：\n",
    "變數名稱1=11.1\n",
    "變數名稱2=22.22\n",
    "變數名稱3=33.333\n",
    "print(\"{0} {1} {2}\".format(變數名稱1,變數名稱2,變數名稱3))"
   ]
  },
  {
   "cell_type": "code",
   "execution_count": 9,
   "metadata": {},
   "outputs": [
    {
     "name": "stdout",
     "output_type": "stream",
     "text": [
      "11.1 22.22 33.333\n"
     ]
    }
   ],
   "source": [
    "'''\n",
    "3_8.變數宣告與賦值-使用有序format輸出(15.0)\n",
    "'''\n",
    "variable1=11.1\n",
    "variable2=22.22\n",
    "variable3=33.333\n",
    "\n",
    "print(\"{} {} {}\".format(variable1,variable2,variable3))\n"
   ]
  },
  {
   "cell_type": "markdown",
   "metadata": {},
   "source": [
    "寫一個程式，指定2個變數，其資料型態為浮點數，其值分別為3.333與4.4444，然後印出如輸出範例的結果。\n",
    "\n",
    "輸入範例:\n",
    "\n",
    "輸出範例:\n",
    "They are 3.333 and 4.4444.\n",
    "\n"
   ]
  },
  {
   "cell_type": "code",
   "execution_count": 10,
   "metadata": {},
   "outputs": [
    {
     "name": "stdout",
     "output_type": "stream",
     "text": [
      "They are 3.333 and 4.4444\n"
     ]
    }
   ],
   "source": [
    "'''\n",
    "3_9.變數宣告與賦值-浮點數與形容詞(15.0)\n",
    "'''\n",
    "floatA=3.333\n",
    "floatB=4.4444\n",
    "\n",
    "formatted_string = \"They are {} and {}\".format(floatA,floatB)\n",
    "print(formatted_string)"
   ]
  },
  {
   "cell_type": "markdown",
   "metadata": {},
   "source": [
    "寫一個程式，給定一個十進位數1600，分別印出其十進位、二進位、八進位與十六進位的結果。\n",
    "\n",
    "輸入範例:\n",
    "\n",
    "\n",
    "輸出範例:\n",
    "1600\n",
    "0b11001000000\n",
    "0o3100\n",
    "0x640"
   ]
  },
  {
   "cell_type": "code",
   "execution_count": 11,
   "metadata": {},
   "outputs": [
    {
     "name": "stdout",
     "output_type": "stream",
     "text": [
      "1600\n",
      "0b11001000000\n",
      "0o3100\n",
      "0x640\n"
     ]
    }
   ],
   "source": [
    "'''\n",
    "3_10.變數宣告與賦值-自主學習(5.0)\n",
    "'''\n",
    "decimal_number = 1600\n",
    "\n",
    "print(decimal_number)\n",
    "print(bin(decimal_number))\n",
    "print(oct(decimal_number))\n",
    "print(hex(decimal_number))"
   ]
  }
 ],
 "metadata": {
  "kernelspec": {
   "display_name": "Python 3",
   "language": "python",
   "name": "python3"
  },
  "language_info": {
   "codemirror_mode": {
    "name": "ipython",
    "version": 3
   },
   "file_extension": ".py",
   "mimetype": "text/x-python",
   "name": "python",
   "nbconvert_exporter": "python",
   "pygments_lexer": "ipython3",
   "version": "3.12.1"
  }
 },
 "nbformat": 4,
 "nbformat_minor": 2
}
