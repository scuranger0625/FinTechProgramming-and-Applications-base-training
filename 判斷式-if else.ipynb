{
 "cells": [
  {
   "cell_type": "markdown",
   "metadata": {},
   "source": [
    "寫一個程式，輸入一個整數，代表分數，先不考慮不合理數據，\n",
    "\n",
    "如果大於等於60分，則印出此分及格；\n",
    "否則，印出此數不及格。\n",
    "此程式可執行2次。\n",
    "\n",
    "輸入範例:\n",
    "78\n",
    "17\n",
    "\n",
    "輸出範例: \n",
    "78分及格\n",
    "17分不及格\n",
    "\n",
    "程示範例：\n",
    "score = int(input())\n",
    "if 條件式:\n",
    "    print(\"{0}分及格\".format(score))\n",
    "else:\n",
    "     print(\"{0}分不及格\".format(score))"
   ]
  },
  {
   "cell_type": "code",
   "execution_count": null,
   "metadata": {},
   "outputs": [],
   "source": [
    "'''\n",
    "13_1.判斷式-if else-是否及格(15.0)\n",
    "'''\n",
    "\n",
    "for i in range(2):\n",
    "    score = int(input())\n",
    "    if score >= 60 :\n",
    "        print(\"{0}分及格\".format(score))\n",
    "    else:\n",
    "        print(\"{0}分不及格\".format(score))"
   ]
  },
  {
   "cell_type": "markdown",
   "metadata": {},
   "source": [
    "寫一個程式，輸入 3 個整數，判斷其能否構成三角形，\n",
    "\n",
    "如果是請印出，可以構成三角形；\n",
    "否則印出，不可以構成三角形。\n",
    "請輸入兩組資料進行測試。\n",
    "\n",
    "輸入範例: \n",
    "3\n",
    "3\n",
    "3\n",
    "1\n",
    "2\n",
    "3\n",
    "\n",
    "輸出範例:\n",
    "3 3 3可以構成三角形\n",
    "1 2 3不可以構成三角形"
   ]
  },
  {
   "cell_type": "code",
   "execution_count": null,
   "metadata": {},
   "outputs": [],
   "source": [
    "'''\n",
    "13_2.判斷式-if else-是否能構成三角形?(15.0)\n",
    "'''\n",
    "# 定義函式，判斷是否可以構成三角形\n",
    "\n",
    "def is_triangle(a,b,c):\n",
    "    # 三角形判斷條件：任意兩邊之和大於第三邊\n",
    "    if a+b>c and a+c>b and b+c>a :\n",
    "        return True\n",
    "    else:\n",
    "        return False\n",
    "\n",
    "for i in range(2):\n",
    "    a = int(input())\n",
    "    b = int(input())\n",
    "    c = int(input())\n",
    "    # 判斷是否可以構成三角形\n",
    "    if  is_triangle(a,b,c):\n",
    "        print(f\"{a} {b} {c}可以構成三角形\")\n",
    "    else:\n",
    "        print(f\"{a} {b} {c}不可以構成三角形\")"
   ]
  },
  {
   "cell_type": "markdown",
   "metadata": {},
   "source": [
    "寫一個程式，輸入 3 個整數，判斷其能否構成直角三角形。\n",
    "\n",
    "如果是請印出，直角三角形；否則印出，不是直角三角形，輸出顯示如輸出範例。\n",
    "\n",
    "本程式可以執行2次。\n",
    "\n",
    "輸入範例: \n",
    "5\n",
    "4\n",
    "3\n",
    "1\n",
    "2\n",
    "3\n",
    "\n",
    "輸出範例:\n",
    "5 4 3是直角三角形\n",
    "1 2 3不是直角三角形"
   ]
  },
  {
   "cell_type": "code",
   "execution_count": null,
   "metadata": {},
   "outputs": [],
   "source": [
    "'''\n",
    "13_3.判斷式-if else-是否直角三角形?(15.0)\n",
    "'''\n",
    "def is_right_triangle(a,b,c):\n",
    "    sides = sorted([a,b,c])\n",
    "    # 判斷是否滿足畢氏定理 (a^2 + b^2 = c^2)\n",
    "    if sides[0]**2 + sides[1]**2 == sides[2]**2 :\n",
    "        return True\n",
    "    else:\n",
    "        return False\n",
    "\n",
    "for i in range(2):\n",
    "    a = int(input())\n",
    "    b = int(input())\n",
    "    c = int(input())\n",
    "    # 判斷是否可以構成三角形\n",
    "    if  is_right_triangle(a,b,c):\n",
    "        print(f\"{a} {b} {c}是直角三角形\")\n",
    "    else:\n",
    "        print(f\"{a} {b} {c}不是直角三角形\")"
   ]
  },
  {
   "cell_type": "markdown",
   "metadata": {},
   "source": [
    "寫一個程式，輸入 1 個整數，判斷這個數是否為 7 的倍數，或是最末位 7 的數:\n",
    "\n",
    "如果是，印出此數符合標準，如輸出範例。\n",
    "如果不是，印出此數不符合標準。\n",
    "本程式可以執行3次。\n",
    "\n",
    "輸入範例: \n",
    "17\n",
    "14\n",
    "15\n",
    "\n",
    "輸出範例:\n",
    "17符合標準\n",
    "14符合標準\n",
    "15不符合標準"
   ]
  },
  {
   "cell_type": "code",
   "execution_count": null,
   "metadata": {},
   "outputs": [],
   "source": [
    "'''\n",
    "13_4.判斷式-if else-是否與7相關?(15.0)\n",
    "'''\n",
    "def is_seven_standard(n):\n",
    "    # 判斷是否為 7 的倍數或最末位是 7\n",
    "    if  n % 7 == 0 or n % 10 == 7:\n",
    "        return True\n",
    "    else:\n",
    "        return False\n",
    "\n",
    "\n",
    "for i in range(3):\n",
    "    n = int(input())\n",
    "    \n",
    "    if is_seven_standard(n):\n",
    "        print(f\"{n}符合標準\")\n",
    "    else:\n",
    "        print(f\"{n}不符合標準\")\n",
    "    "
   ]
  },
  {
   "cell_type": "markdown",
   "metadata": {},
   "source": [
    "請輸入一個 3 位數的整數，印出其百位、十位與個位數。\n",
    "\n",
    "輸入範例: \n",
    "713\n",
    "\n",
    "輸出範例:\n",
    "7\n",
    "1\n",
    "3"
   ]
  },
  {
   "cell_type": "code",
   "execution_count": null,
   "metadata": {},
   "outputs": [],
   "source": [
    "'''\n",
    "13_5.判斷式-if else-拆解三位數(10.0)\n",
    "'''\n",
    "while True:\n",
    "    num = int(input())\n",
    "\n",
    "    if 100 <= num <= 999:\n",
    "        hunderds = num // 100\n",
    "        tens = (num // 10) % 10\n",
    "        ones = num % 10\n",
    "        \n",
    "        print(hunderds)\n",
    "        print(tens)\n",
    "        print(ones)\n",
    "        # 結束迴圈\n",
    "        break\n",
    "    else:\n",
    "        print(\"error\")\n",
    "        \n",
    "\n"
   ]
  },
  {
   "cell_type": "markdown",
   "metadata": {},
   "source": [
    "請輸入一個 3 位數的整數，分別判斷其百位數、十位數與個位數是否為 3 的倍數。\n",
    "\n",
    "輸入範例: \n",
    "713\n",
    "\n",
    "輸出範例:\n",
    "百位數7不是3的倍數\n",
    "十位數1不是3的倍數\n",
    "個位數3是3的倍數"
   ]
  },
  {
   "cell_type": "code",
   "execution_count": null,
   "metadata": {},
   "outputs": [],
   "source": [
    "'''\n",
    "13_6.判斷式-if else-是否為3的倍數(10.0)\n",
    "'''\n",
    "\n",
    "num = int(input())\n",
    "\n",
    "hunderds = num // 100\n",
    "tens = (num // 10) % 10\n",
    "ones = num % 10\n",
    "\n",
    "\n",
    "if hunderds % 3 == 0 :\n",
    "    print(f\"百位數{hunderds}是3的倍數\")\n",
    "else:\n",
    "    print(f\"百位數{hunderds}不是3的倍數\")\n",
    "    \n",
    "if tens % 3 == 0 :\n",
    "    print(f\"十位數{tens}是3的倍數\")\n",
    "else:\n",
    "    print(f\"十位數{tens}不是3的倍數\")\n",
    "    \n",
    "if ones % 3 == 0 :\n",
    "    print(f\"個位數{ones}是3的倍數\")\n",
    "else:\n",
    "    print(f\"個位數{ones}不是3的倍數\")"
   ]
  },
  {
   "cell_type": "markdown",
   "metadata": {},
   "source": [
    "迴文是指從前面讀，和從後面讀都相同的一段數字或文字；如以下三個整數都是迴文: 12321, 55555, 45554和11611。\n",
    "\n",
    "請撰寫一個程式，讀入一個五位數的整數， 判斷其是否為迴文。\n",
    "\n",
    "如果是就印出是迴文，如果不是就印出不是迴文。\n",
    "\n",
    "輸入範例: \n",
    "55555\n",
    "\n",
    "輸出範例:\n",
    "55555是迴文"
   ]
  },
  {
   "cell_type": "code",
   "execution_count": null,
   "metadata": {},
   "outputs": [],
   "source": [
    "'''\n",
    "13_7.判斷式-if else-是否為迴文(20.0)\n",
    "'''\n",
    "# Binary search tree\n",
    "\n",
    "num = input()\n",
    "\n",
    "if num[0] == num[4] and num[1] ==num[3]:\n",
    "    print(f\"{num}是迴文\")\n",
    "else:\n",
    "    print(f\"{num}不是迴文\")"
   ]
  }
 ],
 "metadata": {
  "kernelspec": {
   "display_name": "Python 3",
   "language": "python",
   "name": "python3"
  },
  "language_info": {
   "name": "python",
   "version": "3.12.1"
  }
 },
 "nbformat": 4,
 "nbformat_minor": 2
}
