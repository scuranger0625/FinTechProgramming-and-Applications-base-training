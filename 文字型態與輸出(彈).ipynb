{
 "cells": [
  {
   "cell_type": "markdown",
   "metadata": {},
   "source": [
    "寫一個程式，指定一個變數，設定一個文字變數 Hello, Dice，然後印出來。\n",
    "\n",
    "輸入範例:\n",
    "\n",
    "輸出範例: \n",
    "Hello, Dice\n",
    "\n",
    "程示範例：\n",
    "變數名稱 = 'Hello, Dice'\n",
    "print(變數名稱)"
   ]
  },
  {
   "cell_type": "code",
   "execution_count": 1,
   "metadata": {},
   "outputs": [
    {
     "name": "stdout",
     "output_type": "stream",
     "text": [
      "Hello, Dice\n"
     ]
    }
   ],
   "source": [
    "'''\n",
    "5_1.文字型態與輸出(彈)-字串(5.0)\n",
    "'''\n",
    "A = \"Hello, Dice\"\n",
    "print(A)"
   ]
  },
  {
   "cell_type": "markdown",
   "metadata": {},
   "source": [
    "寫一個程式，指定一個變數，設定其值為 Hello, Dice，將字串前5個字元印出來。\n",
    "\n",
    "輸入範例:\n",
    "\n",
    "輸出範例: \n",
    "H\n",
    "e\n",
    "l\n",
    "l\n",
    "o"
   ]
  },
  {
   "cell_type": "code",
   "execution_count": 2,
   "metadata": {},
   "outputs": [
    {
     "name": "stdout",
     "output_type": "stream",
     "text": [
      "H\n",
      "e\n",
      "l\n",
      "l\n",
      "o\n"
     ]
    }
   ],
   "source": [
    "'''\n",
    "5_2.文字型態與輸出(彈)-從字串找字元(5.0)\n",
    "'''\n",
    "A= \"Hello, Dice\"\n",
    "\n",
    "for i in A[:5]:\n",
    "    print(i)"
   ]
  },
  {
   "cell_type": "markdown",
   "metadata": {},
   "source": [
    "寫一個程式，指定一個變數，設定為 Hello, Dice，然後，將字串內第一個單字 Hello 與第二個單字印出來。\n",
    "\n",
    "輸入範例:\n",
    "\n",
    "輸出範例:\n",
    "Hello\n",
    "Dice"
   ]
  },
  {
   "cell_type": "code",
   "execution_count": 3,
   "metadata": {},
   "outputs": [
    {
     "name": "stdout",
     "output_type": "stream",
     "text": [
      "Hello\n",
      "Dice\n"
     ]
    }
   ],
   "source": [
    "'''\n",
    "5_3.文字型態與輸出(彈)-從字串找單字(5.0)\n",
    "'''\n",
    "mylist=[ \"Hello\", \"Dice\" ]\n",
    "\n",
    "print(mylist[0])\n",
    "print(mylist[1])"
   ]
  },
  {
   "cell_type": "markdown",
   "metadata": {},
   "source": [
    "寫一個程式，設定一個文字字串為I love you，然後分別印出每一個子字串與各索引值所對應的子字串。\n",
    "\n",
    "輸入範例:\n",
    "\n",
    "輸出範例: \n",
    "['I', 'love', 'you']\n",
    "I\n",
    "love\n",
    "you\n",
    "\n",
    "程示範例：\n",
    "text = \"I love you\" #input得到一個字串\n",
    "textall = text.split(\" \") #分割子字串\n",
    "text0 = text.split(\" \")[0] #印出索引0的子字串\n",
    "text1 = text.split(\" \")[1] #印出索引1的子字串\n",
    "text2 = text.split(\" \")[2] #印出索引2的子字串\n",
    "print(textall)\n",
    "print(text0)\n",
    "print(text1)\n",
    "print(text2)"
   ]
  },
  {
   "cell_type": "code",
   "execution_count": 4,
   "metadata": {},
   "outputs": [
    {
     "name": "stdout",
     "output_type": "stream",
     "text": [
      "['I', 'love', 'you']\n",
      "I\n",
      "love\n",
      "you\n"
     ]
    }
   ],
   "source": [
    "'''\n",
    "5_4.文字型態與輸出(彈)-分割字串(5.0)\n",
    "'''\n",
    "str_value=\"I love you\"\n",
    "\n",
    "\n",
    "textall = str_value.split(\" \") \n",
    "text0 = str_value.split(\" \")[0] \n",
    "text1 = str_value.split(\" \")[1] \n",
    "text2 = str_value.split(\" \")[2] \n",
    "\n",
    "# print(textall,\"\\n\",text0,\"\\n\",text1,\"\\n\",text2)\n",
    "\n",
    "print(textall)\n",
    "print(text0)\n",
    "print(text1)\n",
    "print(text2)"
   ]
  },
  {
   "cell_type": "markdown",
   "metadata": {},
   "source": [
    "寫一個程式，輸入一個句子如06 6333333，取出06與6333333，印出其資料型態。\n",
    "\n",
    "輸入範例:\n",
    "\n",
    "輸出範例:\n",
    "06\n",
    "6333333\n",
    "<class 'str'>\n",
    "<class 'str'>\n",
    "\n",
    "程示範例：\n",
    "text = \"06 6333333\" #input得到一個字串\n",
    "text1 = text.split(\" \")[0] #分割子字串\n",
    "text2 = text.split(\" \")[1] #印出索引1的子字串\n",
    "print(text1)\n",
    "print(text2)\n",
    "print(type(text1))\n",
    "print(type(text2))"
   ]
  },
  {
   "cell_type": "code",
   "execution_count": 5,
   "metadata": {},
   "outputs": [
    {
     "name": "stdout",
     "output_type": "stream",
     "text": [
      "06\n",
      "6333333\n",
      "<class 'str'>\n",
      "<class 'str'>\n"
     ]
    }
   ],
   "source": [
    "'''\n",
    "5_5.文字型態與輸出(彈)-數也是字(5.0)\n",
    "'''\n",
    "my_string=\"06 6333333\"\n",
    "\n",
    "text1=my_string.split(\" \")[0]\n",
    "text2=my_string.split(\" \")[1]\n",
    "\n",
    "# print(text1,\"\\n\",text2,\"\\n\",type(text1),\"\\n\",(type(text2)))\n",
    "print(text1)\n",
    "print(text2)\n",
    "print(type(text1))\n",
    "print(type(text2))"
   ]
  },
  {
   "cell_type": "markdown",
   "metadata": {},
   "source": [
    "寫一個程式，指定一個字串變數為 Hello, Dice，再將其倒印出來。\n",
    "\n",
    "輸入範例:\n",
    "\n",
    "輸出範例:\n",
    "eciD ,olleH\n",
    "\n",
    "範例程式：\n",
    "str = 'Hello, Dice'\n",
    "print(str[::-1])"
   ]
  },
  {
   "cell_type": "code",
   "execution_count": 6,
   "metadata": {},
   "outputs": [
    {
     "name": "stdout",
     "output_type": "stream",
     "text": [
      "eciD ,olleH\n"
     ]
    }
   ],
   "source": [
    "'''\n",
    "5_6.文字型態與輸出(彈)-倒著印字串(5.0)\n",
    "'''\n",
    "my_str = \"Hello, Dice\"\n",
    "\n",
    "print(my_str[::-1])\n",
    "\n"
   ]
  }
 ],
 "metadata": {
  "kernelspec": {
   "display_name": "Python 3",
   "language": "python",
   "name": "python3"
  },
  "language_info": {
   "codemirror_mode": {
    "name": "ipython",
    "version": 3
   },
   "file_extension": ".py",
   "mimetype": "text/x-python",
   "name": "python",
   "nbconvert_exporter": "python",
   "pygments_lexer": "ipython3",
   "version": "3.12.1"
  }
 },
 "nbformat": 4,
 "nbformat_minor": 2
}
