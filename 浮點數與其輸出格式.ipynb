{
 "cells": [
  {
   "cell_type": "markdown",
   "metadata": {},
   "source": [
    "寫一個程式，指定4個變數值為 10, 10.01, 10+10j與DICE，分別印出各自的資料型態。\n",
    "使用type可以印出資料型態，可以參照程示範例。\n",
    "\n",
    "輸入範例:\n",
    "\n",
    "\n",
    "輸出範例:\n",
    "<class 'int'>\n",
    "<class 'float'>\n",
    "<class 'complex'>\n",
    "<class 'str'>\n",
    "\n",
    "程示範例：以印出num1的型態為例\n",
    "num1 = 10\n",
    "num2 = 10.01\n",
    "num3 = 10+10j\n",
    "text='DICE'\n",
    "print(type(num1))"
   ]
  },
  {
   "cell_type": "code",
   "execution_count": 1,
   "metadata": {},
   "outputs": [
    {
     "name": "stdout",
     "output_type": "stream",
     "text": [
      "<class 'int'>\n",
      "<class 'float'>\n",
      "<class 'complex'>\n",
      "<class 'str'>\n"
     ]
    }
   ],
   "source": [
    "'''\n",
    "4_1.浮點數與其輸出格式-資料型態(15.0)\n",
    "'''\n",
    "variableA = 10\n",
    "variableB = 10.01\n",
    "variableC = 10+10j\n",
    "variableD = \"DICE\"\n",
    "\n",
    "mylist= [variableA,variableB,variableC,variableD]\n",
    "\n",
    "\n",
    "for i in mylist:\n",
    "    print(type(i))\n",
    "    \n",
    "    \n"
   ]
  },
  {
   "cell_type": "markdown",
   "metadata": {},
   "source": [
    "寫一個程式，指定二個變數，設定其值為 10.1 與 5.2，並且印出結果。\n",
    "使用{0}來印出輸出結果，請參閱程示範例。\n",
    "\n",
    "輸入範例:\n",
    "\n",
    "輸出範例: \n",
    "num1=10.1\n",
    "num2=5.2\n",
    "\n",
    "程示範例：以第一個浮點數為例\n",
    "num1 = 10.1\n",
    "print(\"num1={0}\".format(num1))"
   ]
  },
  {
   "cell_type": "code",
   "execution_count": 2,
   "metadata": {},
   "outputs": [
    {
     "name": "stdout",
     "output_type": "stream",
     "text": [
      "num1=10.1\n",
      "num2=5.2\n"
     ]
    }
   ],
   "source": [
    "'''\n",
    "4_2.浮點數與其輸出格式-印出浮點數-1(15.0)\n",
    "'''\n",
    "\n",
    "num1=10.1\n",
    "num2=5.2\n",
    "\n",
    "mylist=[num1,num2]\n",
    "\n",
    "print(\"num1={0}\\nnum2={1}\".format(mylist[0],mylist[1]))"
   ]
  },
  {
   "cell_type": "markdown",
   "metadata": {},
   "source": [
    "寫一個程式，指定兩個變數，分別為浮點數 10.1 與 5.2，並且印出結果。\n",
    "使用{0:f}來印出輸出結果，請參閱程示範例。\n",
    "\n",
    "輸入範例:\n",
    "\n",
    "輸出範例: \n",
    "num1=10.100000\n",
    "num2=5.200000\n",
    "\n",
    "程示範例：以第一個浮點數為，例印出小數點後6位\n",
    "num1 = 10.1\n",
    "print(\"num1={0:f}\".format(num1))"
   ]
  },
  {
   "cell_type": "code",
   "execution_count": 3,
   "metadata": {},
   "outputs": [
    {
     "name": "stdout",
     "output_type": "stream",
     "text": [
      "num1=10.100000\n",
      "num2=5.200000\n"
     ]
    }
   ],
   "source": [
    "'''\n",
    "4_3.浮點數與其輸出格式-印出浮點數-2(15.0)\n",
    "'''\n",
    "\n",
    "num1=10.1\n",
    "num2=5.2\n",
    "\n",
    "print(\"num1={0:f}\".format(num1))\n",
    "print(\"num2={0:f}\".format(num2))\n"
   ]
  },
  {
   "cell_type": "markdown",
   "metadata": {},
   "source": [
    "寫一個程式，指定二個變數，分別為浮點數 10.1 與 5.2，並且印出結果，分別印出小數點後2位與後3位。\n",
    "\n",
    "輸入範例:\n",
    "\n",
    "輸出範例: \n",
    "num1=10.10\n",
    "num2=5.200\n",
    "\n",
    "程示範例：以第一個浮點數為例，印出小數點後2位\n",
    "num1 = 10.1\n",
    "print(\"num1={0:.2f}\".format(num1))"
   ]
  },
  {
   "cell_type": "code",
   "execution_count": 4,
   "metadata": {},
   "outputs": [
    {
     "name": "stdout",
     "output_type": "stream",
     "text": [
      "num1=10.10\n",
      "num2=5.200\n"
     ]
    }
   ],
   "source": [
    "'''\n",
    "4_4.浮點數與其輸出格式-印出浮點數-3(15.0)\n",
    "'''\n",
    "\n",
    "num1=10.10\n",
    "num2=5.200\n",
    "\n",
    "print(\"num1={0:.2f}\".format(num1))\n",
    "print(\"num2={0:.3f}\".format(num2))"
   ]
  },
  {
   "cell_type": "markdown",
   "metadata": {},
   "source": [
    "\n",
    "\n",
    "寫一個程式，指定二個浮點數為 10.1 與 5.2，並且印出結果。\n",
    "分別印出小數點後2位與後3位。\n",
    "\n",
    "輸入範例:\n",
    "\n",
    "輸出範例: \n",
    "num1=10.10 num2=5.200\n",
    "\n",
    "程示範例：以第一個浮點數為例\n",
    "num1 = 10.1\n",
    "num2 = 5.2\n",
    "print(\"num1={0:.2f} num2={1:.3f}\".format(num1, num2))"
   ]
  },
  {
   "cell_type": "code",
   "execution_count": 5,
   "metadata": {},
   "outputs": [
    {
     "name": "stdout",
     "output_type": "stream",
     "text": [
      "num1=10.10 num2=5.200\n"
     ]
    }
   ],
   "source": [
    "'''\n",
    "4_5.浮點數與其輸出格式-印出浮點數-4(15.0)\n",
    "'''\n",
    "num1=10.1\n",
    "num2=5.2\n",
    "\n",
    "\n",
    "print(\"num1={0:.2f} num2={1:.3f}\".format(num1,num2))"
   ]
  },
  {
   "cell_type": "markdown",
   "metadata": {},
   "source": [
    "寫一個程式，設定兩個變數，其值分別為160與55.22，分別代表身高與體重。輸出時以浮點數印出其值，小數位數請印出兩位數，總數字寬度印出 10 位。\n",
    "\n",
    "輸入範例:\n",
    "\n",
    "輸出範例: \n",
    "My height is        160.00 CM.\n",
    "My weight is         55.22 KG.\n",
    "\n",
    "程示範例：以身高為例\n",
    "height= 160\n",
    "print('My height is {0:10.2f} CM.'.format(身高的變數))"
   ]
  },
  {
   "cell_type": "code",
   "execution_count": 6,
   "metadata": {},
   "outputs": [
    {
     "name": "stdout",
     "output_type": "stream",
     "text": [
      "My height is    160.00 CM.\n",
      "My weight is     55.22 KG.\n"
     ]
    }
   ],
   "source": [
    "'''\n",
    "4_6.浮點數與其輸出格式-固定格式(10.0)\n",
    "'''\n",
    "variableA=160\n",
    "variableB=55.22\n",
    "\n",
    "print(\"My height is{0:10.2f} CM.\".format(variableA))\n",
    "print(\"My weight is{0:10.2f} KG.\".format(variableB))"
   ]
  },
  {
   "cell_type": "markdown",
   "metadata": {},
   "source": [
    "寫一個程式，指定一個變數，其浮點數值為 3.141592653589793，然後執行下列任務。\n",
    "\n",
    "以小數點兩位格式印出\n",
    "再將此數字轉為整數，以變數名稱是num為例，轉型的寫法(以變數num為例)：\n",
    "num = int(num)\n",
    "印出整數\n",
    "最終的數字型態，以變數名稱是num為例，印出變數型態的寫法print(type(num))\n",
    "輸入範例:\n",
    "\n",
    "輸出範例: \n",
    "3.14\n",
    "3\n",
    "<class 'int'>"
   ]
  },
  {
   "cell_type": "code",
   "execution_count": 7,
   "metadata": {},
   "outputs": [
    {
     "name": "stdout",
     "output_type": "stream",
     "text": [
      "3.14\n",
      "3\n",
      "<class 'int'>\n"
     ]
    }
   ],
   "source": [
    "'''\n",
    "4_7.浮點數與其輸出格式-浮點數轉整數(15.0)\n",
    "'''\n",
    "pi= 3.141592653589793\n",
    "\n",
    "print(f\"{pi:.2f}\")\n",
    "pi=int(pi)\n",
    "print(int(pi))\n",
    "print(type(pi))"
   ]
  },
  {
   "cell_type": "markdown",
   "metadata": {},
   "source": [
    "寫一個程式，指定一個字串變數為 KNQXG[QW，將其十進位值減2，就會知道我的心意。\n",
    "\n",
    "輸入範例:\n",
    " \n",
    "輸出範例:\n",
    "ILOVEYOU"
   ]
  },
  {
   "cell_type": "code",
   "execution_count": 8,
   "metadata": {},
   "outputs": [
    {
     "name": "stdout",
     "output_type": "stream",
     "text": [
      "ILOVEYOU\n"
     ]
    }
   ],
   "source": [
    "'''\n",
    "4_8.浮點數與其輸出格式-自主學習(5.0)\n",
    "'''\n",
    "message = \"KNQXG[QW\"\n",
    "\n",
    "decoded_message = \"\".join([chr(ord(char)-2)for char in message])\n",
    "\n",
    "print(decoded_message)"
   ]
  }
 ],
 "metadata": {
  "kernelspec": {
   "display_name": "Python 3",
   "language": "python",
   "name": "python3"
  },
  "language_info": {
   "codemirror_mode": {
    "name": "ipython",
    "version": 3
   },
   "file_extension": ".py",
   "mimetype": "text/x-python",
   "name": "python",
   "nbconvert_exporter": "python",
   "pygments_lexer": "ipython3",
   "version": "3.12.1"
  }
 },
 "nbformat": 4,
 "nbformat_minor": 2
}
