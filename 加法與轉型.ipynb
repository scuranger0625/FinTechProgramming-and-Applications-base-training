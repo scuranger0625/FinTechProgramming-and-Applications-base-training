{
 "cells": [
  {
   "cell_type": "markdown",
   "metadata": {},
   "source": [
    "寫一個程式，輸入兩筆資料，然後計算兩筆資料的和？ \n",
    "\n",
    "輸入範例:\n",
    "3\n",
    "4\n",
    "\n",
    "輸出範例:\n",
    "3+4=34\n",
    "\n",
    "範例程式：\n",
    "a = input()\n",
    "b = input()\n",
    "sum = a + b\n",
    "print(\"{0}+{1}={2}\".format(a,b,sum))"
   ]
  },
  {
   "cell_type": "code",
   "execution_count": null,
   "metadata": {},
   "outputs": [],
   "source": [
    "'''\n",
    "8_1.加法與轉型-文字相加(20.0)\n",
    "'''\n",
    "a=input()\n",
    "b=input()\n",
    "sum=a+b\n",
    "print(\"{0}+{1}={2}\".format(a,b,sum))"
   ]
  },
  {
   "cell_type": "markdown",
   "metadata": {},
   "source": [
    "輸入兩個整數，並且計算兩個整數的和。\n",
    "\n",
    "輸入範例:\n",
    "3\n",
    "4\n",
    "\n",
    "輸出範例:\n",
    "3+4=7\n",
    "\n",
    "範例程式：\n",
    "a = int(input())#請記得轉型\n",
    "b = int(input())#請記得轉型\n",
    "sum = a + b #sum會得到a+b\n",
    "print(\"{0}+{1}={2}\".format(a,b,sum))"
   ]
  },
  {
   "cell_type": "code",
   "execution_count": null,
   "metadata": {},
   "outputs": [],
   "source": [
    "'''\n",
    "8_2.加法與轉型-整數相加(20.0)\n",
    "'''\n",
    "num1=int(input())\n",
    "num2=int(input())\n",
    "\n",
    "sum=num1+num2\n",
    "\n",
    "print(\"{0}+{1}={2}\".format(num1,num2,sum))"
   ]
  },
  {
   "cell_type": "markdown",
   "metadata": {},
   "source": [
    "寫一個程式，從標準輸入取得一個整數變數， 將值加上 10，再印出其結果。\n",
    "加上10的程式碼如下：\n",
    "\n",
    "a=a+10\n",
    "\n",
    "輸入範例:\n",
    "3\n",
    "\n",
    "輸出範例:\n",
    "a變為13"
   ]
  },
  {
   "cell_type": "code",
   "execution_count": null,
   "metadata": {},
   "outputs": [],
   "source": [
    "'''\n",
    "8_3.加法與轉型-=不是等號(20.0)\n",
    "'''\n",
    "\n",
    "\n",
    "a=int(input())\n",
    "a=a+10\n",
    "\n",
    "print(f\"a變為{a}\")"
   ]
  },
  {
   "cell_type": "markdown",
   "metadata": {},
   "source": [
    "寫一個程式，從標準輸入取得兩個如下的資料，相加之後，印出其結果。\n",
    "\n",
    "輸入範例:\n",
    "4.21\n",
    "3.1\n",
    "\n",
    "輸出範例:\n",
    "4.213.1"
   ]
  },
  {
   "cell_type": "code",
   "execution_count": null,
   "metadata": {},
   "outputs": [],
   "source": [
    "'''\n",
    "8_4.加法與轉型-文字相加(20.0)\n",
    "'''\n",
    "\n",
    "a=input()\n",
    "b=input()\n",
    "\n",
    "output=(a+b)\n",
    "\n",
    "print(output)\n",
    "\n",
    "# 輸入範例:\n",
    "# 4.21\n",
    "# 3.1\n",
    "\n",
    "# 輸出範例:\n",
    "# 4.213.1"
   ]
  },
  {
   "cell_type": "markdown",
   "metadata": {},
   "source": [
    "寫一個程式，輸入二個浮點數， 相加後印出其結果。\n",
    "\n",
    "輸入範例:\n",
    "6.3\n",
    "3.6\n",
    "\n",
    "輸出範例:\n",
    "9.9"
   ]
  },
  {
   "cell_type": "code",
   "execution_count": null,
   "metadata": {},
   "outputs": [],
   "source": [
    "'''\n",
    "8_5.加法與轉型-浮點數相加(20.0)\n",
    "'''\n",
    "a=float(input())\n",
    "b=float(input())\n",
    "\n",
    "output= a+b\n",
    "\n",
    "print(output)"
   ]
  },
  {
   "cell_type": "markdown",
   "metadata": {},
   "source": [
    "寫一個程式，從輸入兩個整數變數， 相加後印出如輸出範例的結果。\n",
    "\n",
    "輸入範例:\n",
    "3 4\n",
    "\n",
    "輸出範例:\n",
    "3+4=7"
   ]
  },
  {
   "cell_type": "code",
   "execution_count": null,
   "metadata": {},
   "outputs": [],
   "source": [
    "'''\n",
    "8_6.加法與轉型-彈：加法再現(5.0)\n",
    "'''\n",
    "a,b=input().split()\n",
    "\n",
    "a=int(a)\n",
    "b=int(b)\n",
    "\n",
    "output=a+b\n",
    "\n",
    "print(f\"{a}+{b}={output}\")"
   ]
  },
  {
   "cell_type": "markdown",
   "metadata": {},
   "source": [
    "寫一個程式，輸入一個字串包含8個大寫字元，\n",
    "請印出此字串的小寫字元。\n",
    "\n",
    "輸入範例:\n",
    "ILOVEYOU\n",
    "\n",
    "輸出範例:\n",
    "iloveyou"
   ]
  },
  {
   "cell_type": "code",
   "execution_count": null,
   "metadata": {},
   "outputs": [],
   "source": [
    "'''\n",
    "8_7.加法與轉型-自主學習(5.0)\n",
    "'''\n",
    "my_str=input()\n",
    "\n",
    "output=my_str.lower()\n",
    "print(output)\n",
    "\n",
    "# ILOVEYOU"
   ]
  }
 ],
 "metadata": {
  "kernelspec": {
   "display_name": "Python 3",
   "language": "python",
   "name": "python3"
  },
  "language_info": {
   "name": "python",
   "version": "3.12.1"
  }
 },
 "nbformat": 4,
 "nbformat_minor": 2
}
